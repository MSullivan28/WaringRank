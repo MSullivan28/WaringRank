{
 "cells": [
  {
   "cell_type": "code",
   "execution_count": 1,
   "metadata": {},
   "outputs": [],
   "source": [
    "x,y,z,w = var('x y z w')\n",
    "R.<x,y,z,w>=QQ[]"
   ]
  },
  {
   "cell_type": "code",
   "execution_count": 2,
   "metadata": {},
   "outputs": [],
   "source": [
    "def basis(R,k):\n",
    "    basis = [1];\n",
    "    while(k>0):\n",
    "        basis = sorted(set([a*b for a in basis for b in R.gens()]));\n",
    "        k = k-1;\n",
    "    return(basis);\n",
    "\n",
    "def coeffvector_full(A,R,d): # A = polynomial, R = ring, d = degree\n",
    "    B = basis(R,d);\n",
    "    return([R(A).coefficient(R(mon)) for mon in B]);\n",
    "\n",
    "def Derivs_spanning(F,k):\n",
    "    d = F.degree();\n",
    "    R = F.parent();\n",
    "    spanlist = [F];\n",
    "    while(k<d):\n",
    "        spanlist = [diff(A,i) for A in spanlist for i in R.gens()];\n",
    "        k = k+1;\n",
    "    return(spanlist);\n",
    "\n",
    "def Derivs_matrix(F,k):\n",
    "    R = F.parent();\n",
    "    Dmatrix = matrix([coeffvector_full(A,R,k) for A in Derivs_spanning(F,k)]);\n",
    "    return(Dmatrix);\n",
    "\n",
    "def Deriv_range(F): \n",
    "    d = F.degree();\n",
    "    rangelist = [i for i in range(d+1)];\n",
    "    return(rangelist);\n",
    "\n",
    "def Derivs_count(F):\n",
    "    d = F.degree();\n",
    "    N = F.nvariables();\n",
    "    for i in Deriv_range(F):\n",
    "        Ranklist = [Derivs_matrix(F,i).rank()];\n",
    "        print(Ranklist); \n",
    "        \n",
    "def Derivs_count_specific(F,n):\n",
    "    d = F.degree();\n",
    "    N = F.nvariables();\n",
    "    Ranklist = [Derivs_matrix(F,n).rank()];\n",
    "    print(Ranklist); \n",
    "    "
   ]
  },
  {
   "cell_type": "code",
   "execution_count": 3,
   "metadata": {},
   "outputs": [],
   "source": [
    "F=w**6 + 2*w**3*x**3 + 2*w**3*y**3 + 2*w**3*z**3 + x**6 + 2*x**3*y**3 + 2*x**3*z**3 + y**6 + 2*y**3*z**3 + z**6"
   ]
  },
  {
   "cell_type": "code",
   "execution_count": 4,
   "metadata": {},
   "outputs": [
    {
     "data": {
      "text/plain": [
       "'[ 12   0   0   0   0   0   0   0   0   0  12   0   0   0   0   0  12   0   0 120]\\n[  0   0   0   0   0   0   0   0   0   0   0   0   0   0   0   0   0  36   0   0]\\n[  0   0   0   0   0   0   0   0   0   0   0   0  36   0   0   0   0   0   0   0]\\n[  0   0   0  36   0   0   0   0   0   0   0   0   0   0   0   0   0   0   0   0]\\n[  0   0   0   0   0   0   0   0   0   0   0   0   0   0   0   0   0  36   0   0]\\n[  0   0   0   0   0   0   0   0   0   0   0   0   0   0   0   0   0   0  36   0]\\n[  0   0   0   0   0   0   0   0   0   0   0   0   0   0   0   0   0   0   0   0]\\n[  0   0   0   0   0   0   0   0   0   0   0   0   0   0   0   0   0   0   0   0]\\n[  0   0   0   0   0   0   0   0   0   0   0   0  36   0   0   0   0   0   0   0]\\n[  0   0   0   0   0   0   0   0   0   0   0   0   0   0   0   0   0   0   0   0]\\n[  0   0   0   0   0   0   0   0   0   0   0   0   0   0   0  36   0   0   0   0]\\n[  0   0   0   0   0   0   0   0   0   0   0   0   0   0   0   0   0   0   0   0]\\n[  0   0   0  36   0   0   0   0   0   0   0   0   0   0   0   0   0   0   0   0]\\n[  0   0   0   0   0   0   0   0   0   0   0   0   0   0   0   0   0   0   0   0]\\n[  0   0   0   0   0   0   0   0   0   0   0   0   0   0   0   0   0   0   0   0]\\n[  0   0   0   0   0   0   0   0   0  36   0   0   0   0   0   0   0   0   0   0]\\n[  0   0   0   0   0   0   0   0   0   0   0   0   0   0   0   0   0  36   0   0]\\n[  0   0   0   0   0   0   0   0   0   0   0   0   0   0   0   0   0   0  36   0]\\n[  0   0   0   0   0   0   0   0   0   0   0   0   0   0   0   0   0   0   0   0]\\n[  0   0   0   0   0   0   0   0   0   0   0   0   0   0   0   0   0   0   0   0]\\n[  0   0   0   0   0   0   0   0   0   0   0   0   0   0   0   0   0   0  36   0]\\n[ 12   0   0   0   0   0   0   0   0   0  12   0   0   0   0   0 120   0   0  12]\\n[  0   0   0   0   0   0   0   0   0   0   0  36   0   0   0   0   0   0   0   0]\\n[  0   0  36   0   0   0   0   0   0   0   0   0   0   0   0   0   0   0   0   0]\\n[  0   0   0   0   0   0   0   0   0   0   0   0   0   0   0   0   0   0   0   0]\\n[  0   0   0   0   0   0   0   0   0   0   0  36   0   0   0   0   0   0   0   0]\\n[  0   0   0   0   0   0   0   0   0   0   0   0   0  36   0   0   0   0   0   0]\\n[  0   0   0   0   0   0   0   0   0   0   0   0   0   0   0   0   0   0   0   0]\\n[  0   0   0   0   0   0   0   0   0   0   0   0   0   0   0   0   0   0   0   0]\\n[  0   0  36   0   0   0   0   0   0   0   0   0   0   0   0   0   0   0   0   0]\\n[  0   0   0   0   0   0   0   0   0   0   0   0   0   0   0   0   0   0   0   0]\\n[  0   0   0   0   0   0   0  36   0   0   0   0   0   0   0   0   0   0   0   0]\\n[  0   0   0   0   0   0   0   0   0   0   0   0  36   0   0   0   0   0   0   0]\\n[  0   0   0   0   0   0   0   0   0   0   0   0   0   0   0   0   0   0   0   0]\\n[  0   0   0   0   0   0   0   0   0   0   0   0   0   0   0  36   0   0   0   0]\\n[  0   0   0   0   0   0   0   0   0   0   0   0   0   0   0   0   0   0   0   0]\\n[  0   0   0   0   0   0   0   0   0   0   0   0   0   0   0   0   0   0   0   0]\\n[  0   0   0   0   0   0   0   0   0   0   0  36   0   0   0   0   0   0   0   0]\\n[  0   0   0   0   0   0   0   0   0   0   0   0   0  36   0   0   0   0   0   0]\\n[  0   0   0   0   0   0   0   0   0   0   0   0   0   0   0   0   0   0   0   0]\\n[  0   0   0   0   0   0   0   0   0   0   0   0   0   0   0  36   0   0   0   0]\\n[  0   0   0   0   0   0   0   0   0   0   0   0   0  36   0   0   0   0   0   0]\\n[ 12   0   0   0   0   0   0   0   0   0 120   0   0   0   0   0  12   0   0  12]\\n[  0  36   0   0   0   0   0   0   0   0   0   0   0   0   0   0   0   0   0   0]\\n[  0   0   0   0   0   0   0   0   0   0   0   0   0   0   0   0   0   0   0   0]\\n[  0   0   0   0   0   0   0   0   0   0   0   0   0   0   0   0   0   0   0   0]\\n[  0  36   0   0   0   0   0   0   0   0   0   0   0   0   0   0   0   0   0   0]\\n[  0   0   0   0  36   0   0   0   0   0   0   0   0   0   0   0   0   0   0   0]\\n[  0   0   0  36   0   0   0   0   0   0   0   0   0   0   0   0   0   0   0   0]\\n[  0   0   0   0   0   0   0   0   0   0   0   0   0   0   0   0   0   0   0   0]\\n[  0   0   0   0   0   0   0   0   0   0   0   0   0   0   0   0   0   0   0   0]\\n[  0   0   0   0   0   0   0   0   0  36   0   0   0   0   0   0   0   0   0   0]\\n[  0   0   0   0   0   0   0   0   0   0   0   0   0   0   0   0   0   0   0   0]\\n[  0   0  36   0   0   0   0   0   0   0   0   0   0   0   0   0   0   0   0   0]\\n[  0   0   0   0   0   0   0   0   0   0   0   0   0   0   0   0   0   0   0   0]\\n[  0   0   0   0   0   0   0  36   0   0   0   0   0   0   0   0   0   0   0   0]\\n[  0   0   0   0   0   0   0   0   0   0   0   0   0   0   0   0   0   0   0   0]\\n[  0   0   0   0   0   0   0   0   0   0   0   0   0   0   0   0   0   0   0   0]\\n[  0  36   0   0   0   0   0   0   0   0   0   0   0   0   0   0   0   0   0   0]\\n[  0   0   0   0  36   0   0   0   0   0   0   0   0   0   0   0   0   0   0   0]\\n[  0   0   0   0   0   0   0   0   0  36   0   0   0   0   0   0   0   0   0   0]\\n[  0   0   0   0   0   0   0  36   0   0   0   0   0   0   0   0   0   0   0   0]\\n[  0   0   0   0  36   0   0   0   0   0   0   0   0   0   0   0   0   0   0   0]\\n[120   0   0   0   0   0   0   0   0   0  12   0   0   0   0   0  12   0   0  12]'"
      ]
     },
     "execution_count": 4,
     "metadata": {},
     "output_type": "execute_result"
    }
   ],
   "source": [
    "Derivs_matrix(F,3).str()"
   ]
  },
  {
   "cell_type": "code",
   "execution_count": 5,
   "metadata": {},
   "outputs": [
    {
     "name": "stderr",
     "output_type": "stream",
     "text": [
      "/opt/sagemath-9.2/local/lib/python3.7/site-packages/sage/repl/ipython_kernel/__main__.py:1: DeprecationWarning: the output of uniq(X) being sorted is deprecated; use sorted(set(X)) instead if you want sorted output\n",
      "See https://trac.sagemath.org/27014 for details.\n",
      "  from ipykernel.kernelapp import IPKernelApp\n"
     ]
    }
   ],
   "source": [
    "D=uniq(Derivs_spanning(F,3))"
   ]
  },
  {
   "cell_type": "code",
   "execution_count": 6,
   "metadata": {},
   "outputs": [
    {
     "name": "stdout",
     "output_type": "stream",
     "text": [
      "[0, 36*z*w^2, 36*y*w^2, 36*x*w^2, 36*z^2*w, 36*y^2*w, 36*x^2*w, 36*y*z^2, 36*x*z^2, 36*y^2*z, 36*x^2*z, 36*x*y^2, 36*x^2*y, 12*x^3 + 12*y^3 + 12*z^3 + 120*w^3, 12*x^3 + 12*y^3 + 120*z^3 + 12*w^3, 12*x^3 + 120*y^3 + 12*z^3 + 12*w^3, 120*x^3 + 12*y^3 + 12*z^3 + 12*w^3]\n"
     ]
    }
   ],
   "source": [
    "print(D)"
   ]
  },
  {
   "cell_type": "code",
   "execution_count": 11,
   "metadata": {},
   "outputs": [
    {
     "data": {
      "text/plain": [
       "17"
      ]
     },
     "execution_count": 11,
     "metadata": {},
     "output_type": "execute_result"
    }
   ],
   "source": [
    "len(D)"
   ]
  },
  {
   "cell_type": "code",
   "execution_count": 12,
   "metadata": {},
   "outputs": [],
   "source": [
    "#M= matrix([120*x^3,12*y^3,12*z^3],[12*x^3,120*y^3,12*z^3],[12*x^3,12*y^3,120*z^3])\n",
    "from sage.matrix.args import MatrixArgs"
   ]
  },
  {
   "cell_type": "code",
   "execution_count": 15,
   "metadata": {},
   "outputs": [
    {
     "ename": "TypeError",
     "evalue": "too many arguments in matrix constructor",
     "output_type": "error",
     "traceback": [
      "\u001b[0;31m---------------------------------------------------------------------------\u001b[0m",
      "\u001b[0;31mTypeError\u001b[0m                                 Traceback (most recent call last)",
      "\u001b[0;32m<ipython-input-15-446195c8b75e>\u001b[0m in \u001b[0;36m<module>\u001b[0;34m\u001b[0m\n\u001b[0;32m----> 1\u001b[0;31m \u001b[0mM\u001b[0m\u001b[0;34m=\u001b[0m \u001b[0mMatrix\u001b[0m\u001b[0;34m(\u001b[0m\u001b[0;34m[\u001b[0m\u001b[0mInteger\u001b[0m\u001b[0;34m(\u001b[0m\u001b[0;36m120\u001b[0m\u001b[0;34m)\u001b[0m\u001b[0;34m,\u001b[0m\u001b[0mInteger\u001b[0m\u001b[0;34m(\u001b[0m\u001b[0;36m12\u001b[0m\u001b[0;34m)\u001b[0m\u001b[0;34m,\u001b[0m\u001b[0mInteger\u001b[0m\u001b[0;34m(\u001b[0m\u001b[0;36m12\u001b[0m\u001b[0;34m)\u001b[0m\u001b[0;34m]\u001b[0m\u001b[0;34m,\u001b[0m\u001b[0;34m[\u001b[0m\u001b[0mInteger\u001b[0m\u001b[0;34m(\u001b[0m\u001b[0;36m12\u001b[0m\u001b[0;34m)\u001b[0m\u001b[0;34m,\u001b[0m\u001b[0mInteger\u001b[0m\u001b[0;34m(\u001b[0m\u001b[0;36m120\u001b[0m\u001b[0;34m)\u001b[0m\u001b[0;34m,\u001b[0m\u001b[0mInteger\u001b[0m\u001b[0;34m(\u001b[0m\u001b[0;36m12\u001b[0m\u001b[0;34m)\u001b[0m\u001b[0;34m]\u001b[0m\u001b[0;34m,\u001b[0m\u001b[0;34m[\u001b[0m\u001b[0mInteger\u001b[0m\u001b[0;34m(\u001b[0m\u001b[0;36m12\u001b[0m\u001b[0;34m)\u001b[0m\u001b[0;34m,\u001b[0m\u001b[0mInteger\u001b[0m\u001b[0;34m(\u001b[0m\u001b[0;36m12\u001b[0m\u001b[0;34m)\u001b[0m\u001b[0;34m,\u001b[0m\u001b[0mInteger\u001b[0m\u001b[0;34m(\u001b[0m\u001b[0;36m120\u001b[0m\u001b[0;34m)\u001b[0m\u001b[0;34m]\u001b[0m\u001b[0;34m)\u001b[0m\u001b[0;34m\u001b[0m\u001b[0;34m\u001b[0m\u001b[0m\n\u001b[0m",
      "\u001b[0;32m/opt/sagemath-9.2/local/lib/python3.7/site-packages/sage/matrix/constructor.pyx\u001b[0m in \u001b[0;36msage.matrix.constructor.matrix (build/cythonized/sage/matrix/constructor.c:2527)\u001b[0;34m()\u001b[0m\n\u001b[1;32m    633\u001b[0m     \"\"\"\n\u001b[1;32m    634\u001b[0m     \u001b[0mimmutable\u001b[0m \u001b[0;34m=\u001b[0m \u001b[0mkwds\u001b[0m\u001b[0;34m.\u001b[0m\u001b[0mpop\u001b[0m\u001b[0;34m(\u001b[0m\u001b[0;34m'immutable'\u001b[0m\u001b[0;34m,\u001b[0m \u001b[0;32mFalse\u001b[0m\u001b[0;34m)\u001b[0m\u001b[0;34m\u001b[0m\u001b[0;34m\u001b[0m\u001b[0m\n\u001b[0;32m--> 635\u001b[0;31m     \u001b[0mM\u001b[0m \u001b[0;34m=\u001b[0m \u001b[0mMatrixArgs\u001b[0m\u001b[0;34m(\u001b[0m\u001b[0;34m*\u001b[0m\u001b[0margs\u001b[0m\u001b[0;34m,\u001b[0m \u001b[0;34m**\u001b[0m\u001b[0mkwds\u001b[0m\u001b[0;34m)\u001b[0m\u001b[0;34m.\u001b[0m\u001b[0mmatrix\u001b[0m\u001b[0;34m(\u001b[0m\u001b[0;34m)\u001b[0m\u001b[0;34m\u001b[0m\u001b[0;34m\u001b[0m\u001b[0m\n\u001b[0m\u001b[1;32m    636\u001b[0m     \u001b[0;32mif\u001b[0m \u001b[0mimmutable\u001b[0m\u001b[0;34m:\u001b[0m\u001b[0;34m\u001b[0m\u001b[0;34m\u001b[0m\u001b[0m\n\u001b[1;32m    637\u001b[0m         \u001b[0mM\u001b[0m\u001b[0;34m.\u001b[0m\u001b[0mset_immutable\u001b[0m\u001b[0;34m(\u001b[0m\u001b[0;34m)\u001b[0m\u001b[0;34m\u001b[0m\u001b[0;34m\u001b[0m\u001b[0m\n",
      "\u001b[0;32m/opt/sagemath-9.2/local/lib/python3.7/site-packages/sage/matrix/args.pyx\u001b[0m in \u001b[0;36msage.matrix.args.MatrixArgs.__init__ (build/cythonized/sage/matrix/args.c:5124)\u001b[0;34m()\u001b[0m\n\u001b[1;32m    350\u001b[0m             \u001b[0;32mif\u001b[0m \u001b[0margi\u001b[0m \u001b[0;34m==\u001b[0m \u001b[0margc\u001b[0m\u001b[0;34m:\u001b[0m \u001b[0;32mreturn\u001b[0m\u001b[0;34m\u001b[0m\u001b[0;34m\u001b[0m\u001b[0m\n\u001b[1;32m    351\u001b[0m \u001b[0;34m\u001b[0m\u001b[0m\n\u001b[0;32m--> 352\u001b[0;31m         \u001b[0;32mraise\u001b[0m \u001b[0mTypeError\u001b[0m\u001b[0;34m(\u001b[0m\u001b[0;34m\"too many arguments in matrix constructor\"\u001b[0m\u001b[0;34m)\u001b[0m\u001b[0;34m\u001b[0m\u001b[0;34m\u001b[0m\u001b[0m\n\u001b[0m\u001b[1;32m    353\u001b[0m \u001b[0;34m\u001b[0m\u001b[0m\n\u001b[1;32m    354\u001b[0m     \u001b[0;32mdef\u001b[0m \u001b[0m__repr__\u001b[0m\u001b[0;34m(\u001b[0m\u001b[0mself\u001b[0m\u001b[0;34m)\u001b[0m\u001b[0;34m:\u001b[0m\u001b[0;34m\u001b[0m\u001b[0;34m\u001b[0m\u001b[0m\n",
      "\u001b[0;31mTypeError\u001b[0m: too many arguments in matrix constructor"
     ]
    }
   ],
   "source": [
    "M= Matrix([120,12,12],[12,120,12],[12,12,120])"
   ]
  },
  {
   "cell_type": "code",
   "execution_count": null,
   "metadata": {},
   "outputs": [],
   "source": []
  }
 ],
 "metadata": {
  "kernelspec": {
   "display_name": "SageMath 9.2",
   "language": "sage",
   "name": "sagemath"
  },
  "language_info": {
   "codemirror_mode": {
    "name": "ipython",
    "version": 3
   },
   "file_extension": ".py",
   "mimetype": "text/x-python",
   "name": "python",
   "nbconvert_exporter": "python",
   "pygments_lexer": "ipython3",
   "version": "3.7.7"
  }
 },
 "nbformat": 4,
 "nbformat_minor": 4
}
