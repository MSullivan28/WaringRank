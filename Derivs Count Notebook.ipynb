{
 "cells": [
  {
   "cell_type": "code",
   "execution_count": 1,
   "metadata": {},
   "outputs": [],
   "source": [
    "x,y,z,w,u,v,s,t,a,b,c = var('x y z w u v s t a b c')\n",
    "R.<x,y,z,w,u,v,s,t,a,b,c>=QQ[]"
   ]
  },
  {
   "cell_type": "code",
   "execution_count": 2,
   "metadata": {},
   "outputs": [],
   "source": [
    "def basis(R,k):\n",
    "    basis = [1];\n",
    "    while(k>0):\n",
    "        basis = sorted(set([a*b for a in basis for b in R.gens()]));\n",
    "        k = k-1;\n",
    "    return(basis);\n",
    "      "
   ]
  },
  {
   "cell_type": "code",
   "execution_count": 3,
   "metadata": {},
   "outputs": [],
   "source": [
    "def coeffvector_full(A,R,d): # A = polynomial, R = ring, d = degree\n",
    "    B = basis(R,d);\n",
    "    return([R(A).coefficient(R(mon)) for mon in B]);"
   ]
  },
  {
   "cell_type": "code",
   "execution_count": 4,
   "metadata": {},
   "outputs": [],
   "source": [
    "def Derivs_spanning(F,k):\n",
    "    d = F.degree();\n",
    "    R = F.parent();\n",
    "    spanlist = [F];\n",
    "    while(k<d):\n",
    "        spanlist = [diff(A,i) for A in spanlist for i in R.gens()];\n",
    "        k = k+1;\n",
    "    return(spanlist);\n"
   ]
  },
  {
   "cell_type": "code",
   "execution_count": 5,
   "metadata": {},
   "outputs": [],
   "source": [
    "def Deriv_matrix(F,k):\n",
    "    d = F.degree();\n",
    "    Dmatrix = [F];\n",
    "    while(k<d):\n",
    "        Dmatrix = matrix([coeffvector(A) for A in Derivs_spanning(F,k)]);\n",
    "        k=k+1;\n",
    "    return(Dmatrix);   "
   ]
  },
  {
   "cell_type": "code",
   "execution_count": 6,
   "metadata": {},
   "outputs": [],
   "source": [
    "def Derivs_matrix(F,k):\n",
    "    R = F.parent();\n",
    "    Dmatrix = matrix([coeffvector_full(A,R,k) for A in Derivs_spanning(F,k)]);\n",
    "    return(Dmatrix);"
   ]
  },
  {
   "cell_type": "code",
   "execution_count": 7,
   "metadata": {},
   "outputs": [],
   "source": [
    "def Deriv_range(F): \n",
    "    d = F.degree();\n",
    "    rangelist = [i for i in range(d+1)];\n",
    "    return(rangelist);\n",
    "    \n"
   ]
  },
  {
   "cell_type": "code",
   "execution_count": 8,
   "metadata": {},
   "outputs": [],
   "source": [
    "def Derivs_count(F):\n",
    "    d = F.degree();\n",
    "    N = F.nvariables();\n",
    "    for i in Deriv_range(F):\n",
    "        Ranklist = [Derivs_matrix(F,i).rank()];\n",
    "        print(Ranklist); \n",
    "        "
   ]
  },
  {
   "cell_type": "code",
   "execution_count": 10,
   "metadata": {},
   "outputs": [],
   "source": [
    "F=x**6 + 2*x**3*y**3 + 2*x**3*z**3 + y**6 + 2*y**3*z**3 + z**6"
   ]
  },
  {
   "cell_type": "code",
   "execution_count": 12,
   "metadata": {},
   "outputs": [
    {
     "data": {
      "text/plain": [
       "1331 x 286 dense matrix over Multivariate Polynomial Ring in x, y, z, w, u, v, s, t, a, b, c over Rational Field (use the '.str()' method to see the entries)"
      ]
     },
     "execution_count": 12,
     "metadata": {},
     "output_type": "execute_result"
    }
   ],
   "source": [
    "Derivs_matrix(F,3)"
   ]
  },
  {
   "cell_type": "code",
   "execution_count": 13,
   "metadata": {},
   "outputs": [],
   "source": [
    "F=w**2*x**2*y + w**2*x**2*z + w**2*x*y**2 + 2*w**2*x*y*z + w**2*x*z**2 + w**2*y**2*z + w**2*y*z**2 + w*x**2*y**2 + 2*w*x**2*y*z + w*x**2*z**2 + 2*w*x*y**2*z + 2*w*x*y*z**2 + w*y**2*z**2 + x**2*y**2*z + x**2*y*z**2 + x*y**2*z**2"
   ]
  },
  {
   "cell_type": "code",
   "execution_count": 14,
   "metadata": {},
   "outputs": [
    {
     "name": "stdout",
     "output_type": "stream",
     "text": [
      "[1]\n",
      "[4]\n",
      "[8]\n",
      "[8]\n",
      "[4]\n",
      "[1]\n"
     ]
    }
   ],
   "source": [
    "Derivs_count(F)"
   ]
  },
  {
   "cell_type": "code",
   "execution_count": 20,
   "metadata": {},
   "outputs": [],
   "source": [
    "F=a**2*s**2*x - 2*a**2*s*u*z + a**2*u**2*x - a**2*x**3 + a**2*x*z**2 + 2*a*b*s*u*y - 2*a*b*s*v*x - 2*a*b*u**2*w + 2*a*b*u*v*z + 2*a*b*w*x**2 - 2*a*b*x*y*z - 2*a*c*s*w*x + 2*a*c*s*y*z + 2*a*c*u*w*z - 2*a*c*u*x*y + 2*a*c*v*x**2 - 2*a*c*v*z**2 - 2*a*s**2*t*y + 2*a*s*t*u*w + 2*a*s*t*v*z - 2*a*t*u*v*x - 2*a*t*w*x*z + 2*a*t*x**2*y + b**2*u**2*x - 2*b**2*u*v*y + b**2*v**2*x - b**2*x**3 + b**2*x*y**2 + 2*b*c*s*x**2 - 2*b*c*s*y**2 + 2*b*c*u*w*y - 2*b*c*u*x*z - 2*b*c*v*w*x + 2*b*c*v*y*z - 2*b*s*t*u*x + 2*b*s*t*v*y + 2*b*t*u*v*w - 2*b*t*v**2*z - 2*b*t*w*x*y + 2*b*t*x**2*z + c**2*w**2*x - 2*c**2*w*y*z - c**2*x**3 + c**2*x*y**2 + c**2*x*z**2 + 2*c*s*t*w*y - 2*c*s*t*x*z - 2*c*t*u*w**2 + 2*c*t*u*x**2 + 2*c*t*v*w*z - 2*c*t*v*x*y + s**2*t**2*x - s**2*x**3 + s**2*x*y**2 - 2*s*t**2*v*w - 2*s*u*w*x*y + 2*s*u*x**2*z + 2*s*v*w*x**2 - 2*s*v*x*y*z + t**2*v**2*x + t**2*w**2*x - t**2*x**3 + u**2*w**2*x - u**2*x**3 - 2*u*v*w*x*z + 2*u*v*x**2*y - v**2*x**3 + v**2*x*z**2 - w**2*x**3 + 2*w*x**2*y*z + x**5 - x**3*y**2 - x**3*z**2"
   ]
  },
  {
   "cell_type": "code",
   "execution_count": 21,
   "metadata": {},
   "outputs": [
    {
     "name": "stdout",
     "output_type": "stream",
     "text": [
      "[1]\n",
      "[11]\n",
      "[50]\n",
      "[50]\n",
      "[11]\n",
      "[1]\n"
     ]
    }
   ],
   "source": [
    "Derivs_count(F)"
   ]
  },
  {
   "cell_type": "code",
   "execution_count": 17,
   "metadata": {},
   "outputs": [],
   "source": [
    "F=w**2*x**2*y + w**2*x**2*z + w**2*x*y**2 + 2*w**2*x*y*z + w**2*x*z**2 + w**2*y**2*z + w**2*y*z**2 + w*x**2*y**2 + 2*w*x**2*y*z + w*x**2*z**2 + 2*w*x*y**2*z + 2*w*x*y*z**2 + w*y**2*z**2 + x**2*y**2*z + x**2*y*z**2 + x*y**2*z**2"
   ]
  },
  {
   "cell_type": "code",
   "execution_count": 39,
   "metadata": {},
   "outputs": [],
   "source": [
    "L=Derivs_spanning(F,2)"
   ]
  },
  {
   "cell_type": "code",
   "execution_count": 40,
   "metadata": {
    "scrolled": false
   },
   "outputs": [
    {
     "name": "stderr",
     "output_type": "stream",
     "text": [
      "/opt/sagemath-9.2/local/lib/python3.7/site-packages/sage/repl/ipython_kernel/__main__.py:1: DeprecationWarning: the output of uniq(X) being sorted is deprecated; use sorted(set(X)) instead if you want sorted output\n",
      "See https://trac.sagemath.org/27014 for details.\n",
      "  from ipykernel.kernelapp import IPKernelApp\n"
     ]
    },
    {
     "data": {
      "text/plain": [
       "[0,\n",
       " 4*y*z + 2*z^2 + 4*y*w + 4*z*w + 2*w^2,\n",
       " 4*x*z + 2*z^2 + 4*x*w + 4*z*w + 2*w^2,\n",
       " 2*y^2 + 4*y*z + 4*y*w + 4*z*w + 2*w^2,\n",
       " 2*y^2 + 4*y*z + 2*z^2 + 4*y*w + 4*z*w,\n",
       " 4*x*y + 4*x*z + 4*y*z + 4*x*w + 4*y*w + 4*z*w + 2*w^2,\n",
       " 4*x*y + 4*x*z + 4*y*z + 2*z^2 + 4*x*w + 4*y*w + 4*z*w,\n",
       " 4*x*y + 2*y^2 + 4*x*w + 4*y*w + 2*w^2,\n",
       " 4*x*y + 2*y^2 + 4*x*z + 4*y*z + 4*x*w + 4*y*w + 4*z*w,\n",
       " 4*x*y + 2*y^2 + 4*x*z + 4*y*z + 2*z^2,\n",
       " 2*x^2 + 4*x*z + 4*x*w + 4*z*w + 2*w^2,\n",
       " 2*x^2 + 4*x*z + 2*z^2 + 4*x*w + 4*z*w,\n",
       " 2*x^2 + 4*x*y + 4*x*w + 4*y*w + 2*w^2,\n",
       " 2*x^2 + 4*x*y + 4*x*z + 4*y*z + 4*x*w + 4*y*w + 4*z*w,\n",
       " 2*x^2 + 4*x*y + 4*x*z + 4*y*z + 2*z^2,\n",
       " 2*x^2 + 4*x*y + 2*y^2 + 4*x*w + 4*y*w,\n",
       " 2*x^2 + 4*x*y + 2*y^2 + 4*x*z + 4*y*z]"
      ]
     },
     "execution_count": 40,
     "metadata": {},
     "output_type": "execute_result"
    }
   ],
   "source": [
    "uniq(L)"
   ]
  },
  {
   "cell_type": "code",
   "execution_count": 10,
   "metadata": {},
   "outputs": [
    {
     "name": "stdout",
     "output_type": "stream",
     "text": [
      "Defining e as shorthand for Symmetric Functions over Rational Field in the elementary basis\n",
      "Defining f as shorthand for Symmetric Functions over Rational Field in the forgotten basis\n",
      "Defining h as shorthand for Symmetric Functions over Rational Field in the homogeneous basis\n",
      "Defining m as shorthand for Symmetric Functions over Rational Field in the monomial basis\n",
      "Defining p as shorthand for Symmetric Functions over Rational Field in the powersum basis\n",
      "Defining s as shorthand for Symmetric Functions over Rational Field in the Schur basis\n",
      "Defining q, t\n"
     ]
    }
   ],
   "source": [
    "x0,x1,x2,x3,x4,x5,x6,x7,x8,x9 = var('x0 x1 x2 x3 x4 x5 x6 x7 x8 x9')\n",
    "R.<x0,x1,x2,x3,x4,x5,x6,x7,x8,x9>=QQ[]\n",
    "Sym = SymmetricFunctions(QQ)\n",
    "Sym.inject_shorthands()\n",
    "from sage.combinat.q_analogues import *\n",
    "from sage.combinat.sf.sfa import *\n",
    "F = QQ['q','t'].fraction_field()\n",
    "F.inject_variables()\n",
    "Symqt = SymmetricFunctions(F)\n",
    "Symqt.inject_shorthands(verbose=False)"
   ]
  },
  {
   "cell_type": "code",
   "execution_count": 11,
   "metadata": {},
   "outputs": [],
   "source": [
    "def Derivs_count_specific(F,n):\n",
    "    d = F.degree();\n",
    "    N = F.nvariables();\n",
    "    Ranklist = [Derivs_matrix(F,n).rank()];\n",
    "    print(Ranklist); "
   ]
  },
  {
   "cell_type": "code",
   "execution_count": 18,
   "metadata": {},
   "outputs": [],
   "source": [
    "F=x**9 + 3*x**6*y**3 + 3*x**6*z**3 + 3*x**3*y**6 + 6*x**3*y**3*z**3 + 3*x**3*z**6 + y**9 + 3*y**6*z**3 + 3*y**3*z**6 + z**9"
   ]
  },
  {
   "cell_type": "code",
   "execution_count": 17,
   "metadata": {},
   "outputs": [],
   "source": [
    "A=Derivs_matrix(F,4)"
   ]
  },
  {
   "cell_type": "code",
   "execution_count": 15,
   "metadata": {},
   "outputs": [
    {
     "data": {
      "text/plain": [
       "9"
      ]
     },
     "execution_count": 15,
     "metadata": {},
     "output_type": "execute_result"
    }
   ],
   "source": [
    "rank(A)"
   ]
  },
  {
   "cell_type": "code",
   "execution_count": null,
   "metadata": {},
   "outputs": [],
   "source": [
    "Derivs_matrix(F,4)"
   ]
  },
  {
   "cell_type": "code",
   "execution_count": null,
   "metadata": {},
   "outputs": [],
   "source": []
  }
 ],
 "metadata": {
  "kernelspec": {
   "display_name": "SageMath 9.2",
   "language": "sage",
   "name": "sagemath"
  },
  "language_info": {
   "codemirror_mode": {
    "name": "ipython",
    "version": 3
   },
   "file_extension": ".py",
   "mimetype": "text/x-python",
   "name": "python",
   "nbconvert_exporter": "python",
   "pygments_lexer": "ipython3",
   "version": "3.7.7"
  }
 },
 "nbformat": 4,
 "nbformat_minor": 4
}
