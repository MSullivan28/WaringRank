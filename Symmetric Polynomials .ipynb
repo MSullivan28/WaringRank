{
 "cells": [
  {
   "cell_type": "code",
   "execution_count": 1,
   "metadata": {},
   "outputs": [
    {
     "name": "stdout",
     "output_type": "stream",
     "text": [
      "Defining e as shorthand for Symmetric Functions over Rational Field in the elementary basis\n",
      "Defining f as shorthand for Symmetric Functions over Rational Field in the forgotten basis\n",
      "Defining h as shorthand for Symmetric Functions over Rational Field in the homogeneous basis\n",
      "Defining m as shorthand for Symmetric Functions over Rational Field in the monomial basis\n",
      "Defining p as shorthand for Symmetric Functions over Rational Field in the powersum basis\n",
      "Defining s as shorthand for Symmetric Functions over Rational Field in the Schur basis\n"
     ]
    }
   ],
   "source": [
    "x0,x1,x2,x3,x4,x5,x6,x7,x8,x9 = var('x0 x1 x2 x3 x4 x5 x6 x7 x8 x9')\n",
    "R.<x0,x1,x2,x3,x4,x5,x6,x7,x8,x9>=QQ[]\n",
    "Sym = SymmetricFunctions(QQ)\n",
    "Sym.inject_shorthands()"
   ]
  },
  {
   "cell_type": "code",
   "execution_count": 2,
   "metadata": {},
   "outputs": [],
   "source": [
    "from sage.combinat.q_analogues import *\n",
    "from sage.combinat.sf.sfa import *"
   ]
  },
  {
   "cell_type": "code",
   "execution_count": 3,
   "metadata": {},
   "outputs": [
    {
     "name": "stdout",
     "output_type": "stream",
     "text": [
      "Defining q, t\n"
     ]
    }
   ],
   "source": [
    "F = QQ['q','t'].fraction_field()\n",
    "F.inject_variables()"
   ]
  },
  {
   "cell_type": "code",
   "execution_count": 4,
   "metadata": {},
   "outputs": [],
   "source": [
    "Symqt = SymmetricFunctions(F)\n",
    "Symqt.inject_shorthands(verbose=False)"
   ]
  },
  {
   "cell_type": "code",
   "execution_count": 5,
   "metadata": {},
   "outputs": [
    {
     "data": {
      "text/plain": [
       "x0^3*x1*x2 + x0^2*x1^2*x2 + x0*x1^3*x2 + x0^2*x1*x2^2 + x0*x1^2*x2^2 + x0*x1*x2^3 + x0^3*x1*x3 + x0^2*x1^2*x3 + x0*x1^3*x3 + x0^3*x2*x3 + 3*x0^2*x1*x2*x3 + 3*x0*x1^2*x2*x3 + x1^3*x2*x3 + x0^2*x2^2*x3 + 3*x0*x1*x2^2*x3 + x1^2*x2^2*x3 + x0*x2^3*x3 + x1*x2^3*x3 + x0^2*x1*x3^2 + x0*x1^2*x3^2 + x0^2*x2*x3^2 + 3*x0*x1*x2*x3^2 + x1^2*x2*x3^2 + x0*x2^2*x3^2 + x1*x2^2*x3^2 + x0*x1*x3^3 + x0*x2*x3^3 + x1*x2*x3^3"
      ]
     },
     "execution_count": 5,
     "metadata": {},
     "output_type": "execute_result"
    }
   ],
   "source": [
    "s[3,1,1].expand(4)"
   ]
  },
  {
   "cell_type": "code",
   "execution_count": 6,
   "metadata": {},
   "outputs": [
    {
     "data": {
      "text/plain": [
       "x0*x1 + x0*x2 + x1*x2"
      ]
     },
     "execution_count": 6,
     "metadata": {},
     "output_type": "execute_result"
    }
   ],
   "source": [
    "e[2].expand(3)"
   ]
  },
  {
   "cell_type": "code",
   "execution_count": 7,
   "metadata": {},
   "outputs": [],
   "source": [
    "def basis(R,k):\n",
    "    basis = [1];\n",
    "    while(k>0):\n",
    "        basis = sorted(set([a*b for a in basis for b in R.gens()]));\n",
    "        k = k-1;\n",
    "    return(basis);\n",
    "      "
   ]
  },
  {
   "cell_type": "code",
   "execution_count": 8,
   "metadata": {},
   "outputs": [],
   "source": [
    "def coeffvector_full(A,R,d): # A = polynomial, R = ring, d = degree\n",
    "    B = basis(R,d);\n",
    "    return([R(A).coefficient(R(mon)) for mon in B]);"
   ]
  },
  {
   "cell_type": "code",
   "execution_count": 9,
   "metadata": {},
   "outputs": [],
   "source": [
    "def Derivs_spanning(F,k):\n",
    "    d = F.degree();\n",
    "    R = F.parent();\n",
    "    spanlist = [F];\n",
    "    while(k<d):\n",
    "        spanlist = [diff(A,i) for A in spanlist for i in R.gens()];\n",
    "        k = k+1;\n",
    "    return(spanlist);\n"
   ]
  },
  {
   "cell_type": "code",
   "execution_count": 10,
   "metadata": {},
   "outputs": [],
   "source": [
    "def Deriv_matrix(F,k):\n",
    "    d = F.degree();\n",
    "    Dmatrix = [F];\n",
    "    while(k<d):\n",
    "        Dmatrix = matrix([coeffvector(A) for A in Derivs_spanning(F,k)]);\n",
    "        k=k+1;\n",
    "    return(Dmatrix);   "
   ]
  },
  {
   "cell_type": "code",
   "execution_count": 11,
   "metadata": {},
   "outputs": [],
   "source": [
    "def Derivs_matrix(F,k):\n",
    "    R = F.parent();\n",
    "    Dmatrix = matrix([coeffvector_full(A,R,k) for A in Derivs_spanning(F,k)]);\n",
    "    return(Dmatrix);"
   ]
  },
  {
   "cell_type": "code",
   "execution_count": 12,
   "metadata": {},
   "outputs": [],
   "source": [
    "def Deriv_range(F): \n",
    "    d = F.degree();\n",
    "    rangelist = [i for i in range(d+1)];\n",
    "    return(rangelist);\n",
    "    \n"
   ]
  },
  {
   "cell_type": "code",
   "execution_count": 13,
   "metadata": {},
   "outputs": [],
   "source": [
    "def Derivs_count(F):\n",
    "    d = F.degree();\n",
    "    N = F.nvariables();\n",
    "    for i in Deriv_range(F):\n",
    "        Ranklist = [Derivs_matrix(F,i).rank()];\n",
    "        print(Ranklist); \n",
    "        "
   ]
  },
  {
   "cell_type": "code",
   "execution_count": 14,
   "metadata": {},
   "outputs": [
    {
     "data": {
      "text/plain": [
       "x0^3*x1*x2 + x0^2*x1^2*x2 + x0*x1^3*x2 + x0^2*x1*x2^2 + x0*x1^2*x2^2 + x0*x1*x2^3"
      ]
     },
     "execution_count": 14,
     "metadata": {},
     "output_type": "execute_result"
    }
   ],
   "source": [
    "s[3,1,1].expand(3) #.expand(n) where n= number of variables"
   ]
  },
  {
   "cell_type": "code",
   "execution_count": 15,
   "metadata": {},
   "outputs": [
    {
     "data": {
      "text/plain": [
       "x0^2*x1^2*x2^2*x3*x4*x5 + x0^2*x1^2*x2*x3^2*x4*x5 + x0^2*x1*x2^2*x3^2*x4*x5 + x0*x1^2*x2^2*x3^2*x4*x5 + x0^2*x1^2*x2*x3*x4^2*x5 + x0^2*x1*x2^2*x3*x4^2*x5 + x0*x1^2*x2^2*x3*x4^2*x5 + x0^2*x1*x2*x3^2*x4^2*x5 + x0*x1^2*x2*x3^2*x4^2*x5 + x0*x1*x2^2*x3^2*x4^2*x5 + x0^2*x1^2*x2*x3*x4*x5^2 + x0^2*x1*x2^2*x3*x4*x5^2 + x0*x1^2*x2^2*x3*x4*x5^2 + x0^2*x1*x2*x3^2*x4*x5^2 + x0*x1^2*x2*x3^2*x4*x5^2 + x0*x1*x2^2*x3^2*x4*x5^2 + x0^2*x1*x2*x3*x4^2*x5^2 + x0*x1^2*x2*x3*x4^2*x5^2 + x0*x1*x2^2*x3*x4^2*x5^2 + x0*x1*x2*x3^2*x4^2*x5^2"
      ]
     },
     "execution_count": 15,
     "metadata": {},
     "output_type": "execute_result"
    }
   ],
   "source": [
    "s[2,2,2,1,1,1].expand(6)"
   ]
  },
  {
   "cell_type": "code",
   "execution_count": 16,
   "metadata": {},
   "outputs": [],
   "source": [
    "def Elem(n): \n",
    "    for i in range(n+1):\n",
    "        Polylist = [e[i].expand(n)];\n",
    "        print(Polylist);"
   ]
  },
  {
   "cell_type": "code",
   "execution_count": 17,
   "metadata": {},
   "outputs": [
    {
     "name": "stdout",
     "output_type": "stream",
     "text": [
      "[1]\n",
      "[x0 + x1 + x2 + x3 + x4 + x5]\n",
      "[x0*x1 + x0*x2 + x1*x2 + x0*x3 + x1*x3 + x2*x3 + x0*x4 + x1*x4 + x2*x4 + x3*x4 + x0*x5 + x1*x5 + x2*x5 + x3*x5 + x4*x5]\n",
      "[x0*x1*x2 + x0*x1*x3 + x0*x2*x3 + x1*x2*x3 + x0*x1*x4 + x0*x2*x4 + x1*x2*x4 + x0*x3*x4 + x1*x3*x4 + x2*x3*x4 + x0*x1*x5 + x0*x2*x5 + x1*x2*x5 + x0*x3*x5 + x1*x3*x5 + x2*x3*x5 + x0*x4*x5 + x1*x4*x5 + x2*x4*x5 + x3*x4*x5]\n",
      "[x0*x1*x2*x3 + x0*x1*x2*x4 + x0*x1*x3*x4 + x0*x2*x3*x4 + x1*x2*x3*x4 + x0*x1*x2*x5 + x0*x1*x3*x5 + x0*x2*x3*x5 + x1*x2*x3*x5 + x0*x1*x4*x5 + x0*x2*x4*x5 + x1*x2*x4*x5 + x0*x3*x4*x5 + x1*x3*x4*x5 + x2*x3*x4*x5]\n",
      "[x0*x1*x2*x3*x4 + x0*x1*x2*x3*x5 + x0*x1*x2*x4*x5 + x0*x1*x3*x4*x5 + x0*x2*x3*x4*x5 + x1*x2*x3*x4*x5]\n",
      "[x0*x1*x2*x3*x4*x5]\n"
     ]
    }
   ],
   "source": [
    "Elem(6)"
   ]
  },
  {
   "cell_type": "code",
   "execution_count": 18,
   "metadata": {},
   "outputs": [
    {
     "data": {
      "text/plain": [
       "x0^7 + x0^6*x1 + x0^5*x1^2 + x0^4*x1^3 + x0^3*x1^4 + x0^2*x1^5 + x0*x1^6 + x1^7"
      ]
     },
     "execution_count": 18,
     "metadata": {},
     "output_type": "execute_result"
    }
   ],
   "source": [
    "h[7].expand(2)"
   ]
  },
  {
   "cell_type": "code",
   "execution_count": 19,
   "metadata": {},
   "outputs": [],
   "source": [
    "L=[e[i].expand(3) for i in range(11)]"
   ]
  },
  {
   "cell_type": "code",
   "execution_count": 20,
   "metadata": {},
   "outputs": [
    {
     "name": "stdout",
     "output_type": "stream",
     "text": [
      "[1, x0 + x1 + x2, x0*x1 + x0*x2 + x1*x2, x0*x1*x2, 0, 0, 0, 0, 0, 0, 0]\n"
     ]
    }
   ],
   "source": [
    "print(L)"
   ]
  },
  {
   "cell_type": "code",
   "execution_count": 21,
   "metadata": {},
   "outputs": [],
   "source": [
    "F=s[3,1,1,1,0,0].expand(6)"
   ]
  },
  {
   "cell_type": "code",
   "execution_count": 22,
   "metadata": {},
   "outputs": [],
   "source": [
    "F=x0^3*x1*x2*x3 + x0^2*x1^2*x2*x3 + x0*x1^3*x2*x3 + x0^2*x1*x2^2*x3 + x0*x1^2*x2^2*x3 + x0*x1*x2^3*x3 + x0^2*x1*x2*x3^2 + x0*x1^2*x2*x3^2 + x0*x1*x2^2*x3^2 + x0*x1*x2*x3^3 + x0^3*x1*x2*x4 + x0^2*x1^2*x2*x4 + x0*x1^3*x2*x4 + x0^2*x1*x2^2*x4 + x0*x1^2*x2^2*x4 + x0*x1*x2^3*x4 + x0^3*x1*x3*x4 + x0^2*x1^2*x3*x4 + x0*x1^3*x3*x4 + x0^3*x2*x3*x4 + 4*x0^2*x1*x2*x3*x4 + 4*x0*x1^2*x2*x3*x4 + x1^3*x2*x3*x4 + x0^2*x2^2*x3*x4 + 4*x0*x1*x2^2*x3*x4 + x1^2*x2^2*x3*x4 + x0*x2^3*x3*x4 + x1*x2^3*x3*x4 + x0^2*x1*x3^2*x4 + x0*x1^2*x3^2*x4 + x0^2*x2*x3^2*x4 + 4*x0*x1*x2*x3^2*x4 + x1^2*x2*x3^2*x4 + x0*x2^2*x3^2*x4 + x1*x2^2*x3^2*x4 + x0*x1*x3^3*x4 + x0*x2*x3^3*x4 + x1*x2*x3^3*x4 + x0^2*x1*x2*x4^2 + x0*x1^2*x2*x4^2 + x0*x1*x2^2*x4^2 + x0^2*x1*x3*x4^2 + x0*x1^2*x3*x4^2 + x0^2*x2*x3*x4^2 + 4*x0*x1*x2*x3*x4^2 + x1^2*x2*x3*x4^2 + x0*x2^2*x3*x4^2 + x1*x2^2*x3*x4^2 + x0*x1*x3^2*x4^2 + x0*x2*x3^2*x4^2 + x1*x2*x3^2*x4^2 + x0*x1*x2*x4^3 + x0*x1*x3*x4^3 + x0*x2*x3*x4^3 + x1*x2*x3*x4^3 + x0^3*x1*x2*x5 + x0^2*x1^2*x2*x5 + x0*x1^3*x2*x5 + x0^2*x1*x2^2*x5 + x0*x1^2*x2^2*x5 + x0*x1*x2^3*x5 + x0^3*x1*x3*x5 + x0^2*x1^2*x3*x5 + x0*x1^3*x3*x5 + x0^3*x2*x3*x5 + 4*x0^2*x1*x2*x3*x5 + 4*x0*x1^2*x2*x3*x5 + x1^3*x2*x3*x5 + x0^2*x2^2*x3*x5 + 4*x0*x1*x2^2*x3*x5 + x1^2*x2^2*x3*x5 + x0*x2^3*x3*x5 + x1*x2^3*x3*x5 + x0^2*x1*x3^2*x5 + x0*x1^2*x3^2*x5 + x0^2*x2*x3^2*x5 + 4*x0*x1*x2*x3^2*x5 + x1^2*x2*x3^2*x5 + x0*x2^2*x3^2*x5 + x1*x2^2*x3^2*x5 + x0*x1*x3^3*x5 + x0*x2*x3^3*x5 + x1*x2*x3^3*x5 + x0^3*x1*x4*x5 + x0^2*x1^2*x4*x5 + x0*x1^3*x4*x5 + x0^3*x2*x4*x5 + 4*x0^2*x1*x2*x4*x5 + 4*x0*x1^2*x2*x4*x5 + x1^3*x2*x4*x5 + x0^2*x2^2*x4*x5 + 4*x0*x1*x2^2*x4*x5 + x1^2*x2^2*x4*x5 + x0*x2^3*x4*x5 + x1*x2^3*x4*x5 + x0^3*x3*x4*x5 + 4*x0^2*x1*x3*x4*x5 + 4*x0*x1^2*x3*x4*x5 + x1^3*x3*x4*x5 + 4*x0^2*x2*x3*x4*x5 + 10*x0*x1*x2*x3*x4*x5 + 4*x1^2*x2*x3*x4*x5 + 4*x0*x2^2*x3*x4*x5 + 4*x1*x2^2*x3*x4*x5 + x2^3*x3*x4*x5 + x0^2*x3^2*x4*x5 + 4*x0*x1*x3^2*x4*x5 + x1^2*x3^2*x4*x5 + 4*x0*x2*x3^2*x4*x5 + 4*x1*x2*x3^2*x4*x5 + x2^2*x3^2*x4*x5 + x0*x3^3*x4*x5 + x1*x3^3*x4*x5 + x2*x3^3*x4*x5 + x0^2*x1*x4^2*x5 + x0*x1^2*x4^2*x5 + x0^2*x2*x4^2*x5 + 4*x0*x1*x2*x4^2*x5 + x1^2*x2*x4^2*x5 + x0*x2^2*x4^2*x5 + x1*x2^2*x4^2*x5 + x0^2*x3*x4^2*x5 + 4*x0*x1*x3*x4^2*x5 + x1^2*x3*x4^2*x5 + 4*x0*x2*x3*x4^2*x5 + 4*x1*x2*x3*x4^2*x5 + x2^2*x3*x4^2*x5 + x0*x3^2*x4^2*x5 + x1*x3^2*x4^2*x5 + x2*x3^2*x4^2*x5 + x0*x1*x4^3*x5 + x0*x2*x4^3*x5 + x1*x2*x4^3*x5 + x0*x3*x4^3*x5 + x1*x3*x4^3*x5 + x2*x3*x4^3*x5 + x0^2*x1*x2*x5^2 + x0*x1^2*x2*x5^2 + x0*x1*x2^2*x5^2 + x0^2*x1*x3*x5^2 + x0*x1^2*x3*x5^2 + x0^2*x2*x3*x5^2 + 4*x0*x1*x2*x3*x5^2 + x1^2*x2*x3*x5^2 + x0*x2^2*x3*x5^2 + x1*x2^2*x3*x5^2 + x0*x1*x3^2*x5^2 + x0*x2*x3^2*x5^2 + x1*x2*x3^2*x5^2 + x0^2*x1*x4*x5^2 + x0*x1^2*x4*x5^2 + x0^2*x2*x4*x5^2 + 4*x0*x1*x2*x4*x5^2 + x1^2*x2*x4*x5^2 + x0*x2^2*x4*x5^2 + x1*x2^2*x4*x5^2 + x0^2*x3*x4*x5^2 + 4*x0*x1*x3*x4*x5^2 + x1^2*x3*x4*x5^2 + 4*x0*x2*x3*x4*x5^2 + 4*x1*x2*x3*x4*x5^2 + x2^2*x3*x4*x5^2 + x0*x3^2*x4*x5^2 + x1*x3^2*x4*x5^2 + x2*x3^2*x4*x5^2 + x0*x1*x4^2*x5^2 + x0*x2*x4^2*x5^2 + x1*x2*x4^2*x5^2 + x0*x3*x4^2*x5^2 + x1*x3*x4^2*x5^2 + x2*x3*x4^2*x5^2 + x0*x1*x2*x5^3 + x0*x1*x3*x5^3 + x0*x2*x3*x5^3 + x1*x2*x3*x5^3 + x0*x1*x4*x5^3 + x0*x2*x4*x5^3 + x1*x2*x4*x5^3 + x0*x3*x4*x5^3 + x1*x3*x4*x5^3 + x2*x3*x4*x5^3\n"
   ]
  },
  {
   "cell_type": "code",
   "execution_count": 23,
   "metadata": {},
   "outputs": [],
   "source": [
    "F=s[3,3,0,0].expand(4)"
   ]
  },
  {
   "cell_type": "code",
   "execution_count": 24,
   "metadata": {},
   "outputs": [
    {
     "data": {
      "text/plain": [
       "50"
      ]
     },
     "execution_count": 24,
     "metadata": {},
     "output_type": "execute_result"
    }
   ],
   "source": [
    "F(1,1,1,1)"
   ]
  },
  {
   "cell_type": "code",
   "execution_count": 25,
   "metadata": {},
   "outputs": [],
   "source": [
    "F=x0^4*x1*x2*x3*x4 + x0^3*x1^2*x2*x3*x4 + x0^2*x1^3*x2*x3*x4 + x0*x1^4*x2*x3*x4 + x0^3*x1*x2^2*x3*x4 + x0^2*x1^2*x2^2*x3*x4 + x0*x1^3*x2^2*x3*x4 + x0^2*x1*x2^3*x3*x4 + x0*x1^2*x2^3*x3*x4 + x0*x1*x2^4*x3*x4 + x0^3*x1*x2*x3^2*x4 + x0^2*x1^2*x2*x3^2*x4 + x0*x1^3*x2*x3^2*x4 + x0^2*x1*x2^2*x3^2*x4 + x0*x1^2*x2^2*x3^2*x4 + x0*x1*x2^3*x3^2*x4 + x0^2*x1*x2*x3^3*x4 + x0*x1^2*x2*x3^3*x4 + x0*x1*x2^2*x3^3*x4 + x0*x1*x2*x3^4*x4 + x0^3*x1*x2*x3*x4^2 + x0^2*x1^2*x2*x3*x4^2 + x0*x1^3*x2*x3*x4^2 + x0^2*x1*x2^2*x3*x4^2 + x0*x1^2*x2^2*x3*x4^2 + x0*x1*x2^3*x3*x4^2 + x0^2*x1*x2*x3^2*x4^2 + x0*x1^2*x2*x3^2*x4^2 + x0*x1*x2^2*x3^2*x4^2 + x0*x1*x2*x3^3*x4^2 + x0^2*x1*x2*x3*x4^3 + x0*x1^2*x2*x3*x4^3 + x0*x1*x2^2*x3*x4^3 + x0*x1*x2*x3^2*x4^3 + x0*x1*x2*x3*x4^4 + x0^4*x1*x2*x3*x5 + x0^3*x1^2*x2*x3*x5 + x0^2*x1^3*x2*x3*x5 + x0*x1^4*x2*x3*x5 + x0^3*x1*x2^2*x3*x5 + x0^2*x1^2*x2^2*x3*x5 + x0*x1^3*x2^2*x3*x5 + x0^2*x1*x2^3*x3*x5 + x0*x1^2*x2^3*x3*x5 + x0*x1*x2^4*x3*x5 + x0^3*x1*x2*x3^2*x5 + x0^2*x1^2*x2*x3^2*x5 + x0*x1^3*x2*x3^2*x5 + x0^2*x1*x2^2*x3^2*x5 + x0*x1^2*x2^2*x3^2*x5 + x0*x1*x2^3*x3^2*x5 + x0^2*x1*x2*x3^3*x5 + x0*x1^2*x2*x3^3*x5 + x0*x1*x2^2*x3^3*x5 + x0*x1*x2*x3^4*x5 + x0^4*x1*x2*x4*x5 + x0^3*x1^2*x2*x4*x5 + x0^2*x1^3*x2*x4*x5 + x0*x1^4*x2*x4*x5 + x0^3*x1*x2^2*x4*x5 + x0^2*x1^2*x2^2*x4*x5 + x0*x1^3*x2^2*x4*x5 + x0^2*x1*x2^3*x4*x5 + x0*x1^2*x2^3*x4*x5 + x0*x1*x2^4*x4*x5 + x0^4*x1*x3*x4*x5 + x0^3*x1^2*x3*x4*x5 + x0^2*x1^3*x3*x4*x5 + x0*x1^4*x3*x4*x5 + x0^4*x2*x3*x4*x5 + 5*x0^3*x1*x2*x3*x4*x5 + 5*x0^2*x1^2*x2*x3*x4*x5 + 5*x0*x1^3*x2*x3*x4*x5 + x1^4*x2*x3*x4*x5 + x0^3*x2^2*x3*x4*x5 + 5*x0^2*x1*x2^2*x3*x4*x5 + 5*x0*x1^2*x2^2*x3*x4*x5 + x1^3*x2^2*x3*x4*x5 + x0^2*x2^3*x3*x4*x5 + 5*x0*x1*x2^3*x3*x4*x5 + x1^2*x2^3*x3*x4*x5 + x0*x2^4*x3*x4*x5 + x1*x2^4*x3*x4*x5 + x0^3*x1*x3^2*x4*x5 + x0^2*x1^2*x3^2*x4*x5 + x0*x1^3*x3^2*x4*x5 + x0^3*x2*x3^2*x4*x5 + 5*x0^2*x1*x2*x3^2*x4*x5 + 5*x0*x1^2*x2*x3^2*x4*x5 + x1^3*x2*x3^2*x4*x5 + x0^2*x2^2*x3^2*x4*x5 + 5*x0*x1*x2^2*x3^2*x4*x5 + x1^2*x2^2*x3^2*x4*x5 + x0*x2^3*x3^2*x4*x5 + x1*x2^3*x3^2*x4*x5 + x0^2*x1*x3^3*x4*x5 + x0*x1^2*x3^3*x4*x5 + x0^2*x2*x3^3*x4*x5 + 5*x0*x1*x2*x3^3*x4*x5 + x1^2*x2*x3^3*x4*x5 + x0*x2^2*x3^3*x4*x5 + x1*x2^2*x3^3*x4*x5 + x0*x1*x3^4*x4*x5 + x0*x2*x3^4*x4*x5 + x1*x2*x3^4*x4*x5 + x0^3*x1*x2*x4^2*x5 + x0^2*x1^2*x2*x4^2*x5 + x0*x1^3*x2*x4^2*x5 + x0^2*x1*x2^2*x4^2*x5 + x0*x1^2*x2^2*x4^2*x5 + x0*x1*x2^3*x4^2*x5 + x0^3*x1*x3*x4^2*x5 + x0^2*x1^2*x3*x4^2*x5 + x0*x1^3*x3*x4^2*x5 + x0^3*x2*x3*x4^2*x5 + 5*x0^2*x1*x2*x3*x4^2*x5 + 5*x0*x1^2*x2*x3*x4^2*x5 + x1^3*x2*x3*x4^2*x5 + x0^2*x2^2*x3*x4^2*x5 + 5*x0*x1*x2^2*x3*x4^2*x5 + x1^2*x2^2*x3*x4^2*x5 + x0*x2^3*x3*x4^2*x5 + x1*x2^3*x3*x4^2*x5 + x0^2*x1*x3^2*x4^2*x5 + x0*x1^2*x3^2*x4^2*x5 + x0^2*x2*x3^2*x4^2*x5 + 5*x0*x1*x2*x3^2*x4^2*x5 + x1^2*x2*x3^2*x4^2*x5 + x0*x2^2*x3^2*x4^2*x5 + x1*x2^2*x3^2*x4^2*x5 + x0*x1*x3^3*x4^2*x5 + x0*x2*x3^3*x4^2*x5 + x1*x2*x3^3*x4^2*x5 + x0^2*x1*x2*x4^3*x5 + x0*x1^2*x2*x4^3*x5 + x0*x1*x2^2*x4^3*x5 + x0^2*x1*x3*x4^3*x5 + x0*x1^2*x3*x4^3*x5 + x0^2*x2*x3*x4^3*x5 + 5*x0*x1*x2*x3*x4^3*x5 + x1^2*x2*x3*x4^3*x5 + x0*x2^2*x3*x4^3*x5 + x1*x2^2*x3*x4^3*x5 + x0*x1*x3^2*x4^3*x5 + x0*x2*x3^2*x4^3*x5 + x1*x2*x3^2*x4^3*x5 + x0*x1*x2*x4^4*x5 + x0*x1*x3*x4^4*x5 + x0*x2*x3*x4^4*x5 + x1*x2*x3*x4^4*x5 + x0^3*x1*x2*x3*x5^2 + x0^2*x1^2*x2*x3*x5^2 + x0*x1^3*x2*x3*x5^2 + x0^2*x1*x2^2*x3*x5^2 + x0*x1^2*x2^2*x3*x5^2 + x0*x1*x2^3*x3*x5^2 + x0^2*x1*x2*x3^2*x5^2 + x0*x1^2*x2*x3^2*x5^2 + x0*x1*x2^2*x3^2*x5^2 + x0*x1*x2*x3^3*x5^2 + x0^3*x1*x2*x4*x5^2 + x0^2*x1^2*x2*x4*x5^2 + x0*x1^3*x2*x4*x5^2 + x0^2*x1*x2^2*x4*x5^2 + x0*x1^2*x2^2*x4*x5^2 + x0*x1*x2^3*x4*x5^2 + x0^3*x1*x3*x4*x5^2 + x0^2*x1^2*x3*x4*x5^2 + x0*x1^3*x3*x4*x5^2 + x0^3*x2*x3*x4*x5^2 + 5*x0^2*x1*x2*x3*x4*x5^2 + 5*x0*x1^2*x2*x3*x4*x5^2 + x1^3*x2*x3*x4*x5^2 + x0^2*x2^2*x3*x4*x5^2 + 5*x0*x1*x2^2*x3*x4*x5^2 + x1^2*x2^2*x3*x4*x5^2 + x0*x2^3*x3*x4*x5^2 + x1*x2^3*x3*x4*x5^2 + x0^2*x1*x3^2*x4*x5^2 + x0*x1^2*x3^2*x4*x5^2 + x0^2*x2*x3^2*x4*x5^2 + 5*x0*x1*x2*x3^2*x4*x5^2 + x1^2*x2*x3^2*x4*x5^2 + x0*x2^2*x3^2*x4*x5^2 + x1*x2^2*x3^2*x4*x5^2 + x0*x1*x3^3*x4*x5^2 + x0*x2*x3^3*x4*x5^2 + x1*x2*x3^3*x4*x5^2 + x0^2*x1*x2*x4^2*x5^2 + x0*x1^2*x2*x4^2*x5^2 + x0*x1*x2^2*x4^2*x5^2 + x0^2*x1*x3*x4^2*x5^2 + x0*x1^2*x3*x4^2*x5^2 + x0^2*x2*x3*x4^2*x5^2 + 5*x0*x1*x2*x3*x4^2*x5^2 + x1^2*x2*x3*x4^2*x5^2 + x0*x2^2*x3*x4^2*x5^2 + x1*x2^2*x3*x4^2*x5^2 + x0*x1*x3^2*x4^2*x5^2 + x0*x2*x3^2*x4^2*x5^2 + x1*x2*x3^2*x4^2*x5^2 + x0*x1*x2*x4^3*x5^2 + x0*x1*x3*x4^3*x5^2 + x0*x2*x3*x4^3*x5^2 + x1*x2*x3*x4^3*x5^2 + x0^2*x1*x2*x3*x5^3 + x0*x1^2*x2*x3*x5^3 + x0*x1*x2^2*x3*x5^3 + x0*x1*x2*x3^2*x5^3 + x0^2*x1*x2*x4*x5^3 + x0*x1^2*x2*x4*x5^3 + x0*x1*x2^2*x4*x5^3 + x0^2*x1*x3*x4*x5^3 + x0*x1^2*x3*x4*x5^3 + x0^2*x2*x3*x4*x5^3 + 5*x0*x1*x2*x3*x4*x5^3 + x1^2*x2*x3*x4*x5^3 + x0*x2^2*x3*x4*x5^3 + x1*x2^2*x3*x4*x5^3 + x0*x1*x3^2*x4*x5^3 + x0*x2*x3^2*x4*x5^3 + x1*x2*x3^2*x4*x5^3 + x0*x1*x2*x4^2*x5^3 + x0*x1*x3*x4^2*x5^3 + x0*x2*x3*x4^2*x5^3 + x1*x2*x3*x4^2*x5^3 + x0*x1*x2*x3*x5^4 + x0*x1*x2*x4*x5^4 + x0*x1*x3*x4*x5^4 + x0*x2*x3*x4*x5^4 + x1*x2*x3*x4*x5^4\n"
   ]
  },
  {
   "cell_type": "code",
   "execution_count": 26,
   "metadata": {},
   "outputs": [],
   "source": [
    "        \n",
    "def Derivs_count_specific(F,n):\n",
    "    d = F.degree();\n",
    "    N = F.nvariables();\n",
    "    Ranklist = [Derivs_matrix(F,n).rank()];\n",
    "    print(Ranklist); "
   ]
  },
  {
   "cell_type": "code",
   "execution_count": 34,
   "metadata": {},
   "outputs": [
    {
     "name": "stdout",
     "output_type": "stream",
     "text": [
      "[120]\n"
     ]
    }
   ],
   "source": [
    "Derivs_count_specific(F,4)"
   ]
  },
  {
   "cell_type": "code",
   "execution_count": 35,
   "metadata": {},
   "outputs": [],
   "source": [
    "F=x0^3*x1^3*x2*x3 + x0^3*x1^2*x2^2*x3 + x0^2*x1^3*x2^2*x3 + x0^3*x1*x2^3*x3 + x0^2*x1^2*x2^3*x3 + x0*x1^3*x2^3*x3 + x0^3*x1^2*x2*x3^2 + x0^2*x1^3*x2*x3^2 + x0^3*x1*x2^2*x3^2 + 2*x0^2*x1^2*x2^2*x3^2 + x0*x1^3*x2^2*x3^2 + x0^2*x1*x2^3*x3^2 + x0*x1^2*x2^3*x3^2 + x0^3*x1*x2*x3^3 + x0^2*x1^2*x2*x3^3 + x0*x1^3*x2*x3^3 + x0^2*x1*x2^2*x3^3 + x0*x1^2*x2^2*x3^3 + x0*x1*x2^3*x3^3 + x0^3*x1^3*x2*x4 + x0^3*x1^2*x2^2*x4 + x0^2*x1^3*x2^2*x4 + x0^3*x1*x2^3*x4 + x0^2*x1^2*x2^3*x4 + x0*x1^3*x2^3*x4 + x0^3*x1^3*x3*x4 + 3*x0^3*x1^2*x2*x3*x4 + 3*x0^2*x1^3*x2*x3*x4 + 3*x0^3*x1*x2^2*x3*x4 + 5*x0^2*x1^2*x2^2*x3*x4 + 3*x0*x1^3*x2^2*x3*x4 + x0^3*x2^3*x3*x4 + 3*x0^2*x1*x2^3*x3*x4 + 3*x0*x1^2*x2^3*x3*x4 + x1^3*x2^3*x3*x4 + x0^3*x1^2*x3^2*x4 + x0^2*x1^3*x3^2*x4 + 3*x0^3*x1*x2*x3^2*x4 + 5*x0^2*x1^2*x2*x3^2*x4 + 3*x0*x1^3*x2*x3^2*x4 + x0^3*x2^2*x3^2*x4 + 5*x0^2*x1*x2^2*x3^2*x4 + 5*x0*x1^2*x2^2*x3^2*x4 + x1^3*x2^2*x3^2*x4 + x0^2*x2^3*x3^2*x4 + 3*x0*x1*x2^3*x3^2*x4 + x1^2*x2^3*x3^2*x4 + x0^3*x1*x3^3*x4 + x0^2*x1^2*x3^3*x4 + x0*x1^3*x3^3*x4 + x0^3*x2*x3^3*x4 + 3*x0^2*x1*x2*x3^3*x4 + 3*x0*x1^2*x2*x3^3*x4 + x1^3*x2*x3^3*x4 + x0^2*x2^2*x3^3*x4 + 3*x0*x1*x2^2*x3^3*x4 + x1^2*x2^2*x3^3*x4 + x0*x2^3*x3^3*x4 + x1*x2^3*x3^3*x4 + x0^3*x1^2*x2*x4^2 + x0^2*x1^3*x2*x4^2 + x0^3*x1*x2^2*x4^2 + 2*x0^2*x1^2*x2^2*x4^2 + x0*x1^3*x2^2*x4^2 + x0^2*x1*x2^3*x4^2 + x0*x1^2*x2^3*x4^2 + x0^3*x1^2*x3*x4^2 + x0^2*x1^3*x3*x4^2 + 3*x0^3*x1*x2*x3*x4^2 + 5*x0^2*x1^2*x2*x3*x4^2 + 3*x0*x1^3*x2*x3*x4^2 + x0^3*x2^2*x3*x4^2 + 5*x0^2*x1*x2^2*x3*x4^2 + 5*x0*x1^2*x2^2*x3*x4^2 + x1^3*x2^2*x3*x4^2 + x0^2*x2^3*x3*x4^2 + 3*x0*x1*x2^3*x3*x4^2 + x1^2*x2^3*x3*x4^2 + x0^3*x1*x3^2*x4^2 + 2*x0^2*x1^2*x3^2*x4^2 + x0*x1^3*x3^2*x4^2 + x0^3*x2*x3^2*x4^2 + 5*x0^2*x1*x2*x3^2*x4^2 + 5*x0*x1^2*x2*x3^2*x4^2 + x1^3*x2*x3^2*x4^2 + 2*x0^2*x2^2*x3^2*x4^2 + 5*x0*x1*x2^2*x3^2*x4^2 + 2*x1^2*x2^2*x3^2*x4^2 + x0*x2^3*x3^2*x4^2 + x1*x2^3*x3^2*x4^2 + x0^2*x1*x3^3*x4^2 + x0*x1^2*x3^3*x4^2 + x0^2*x2*x3^3*x4^2 + 3*x0*x1*x2*x3^3*x4^2 + x1^2*x2*x3^3*x4^2 + x0*x2^2*x3^3*x4^2 + x1*x2^2*x3^3*x4^2 + x0^3*x1*x2*x4^3 + x0^2*x1^2*x2*x4^3 + x0*x1^3*x2*x4^3 + x0^2*x1*x2^2*x4^3 + x0*x1^2*x2^2*x4^3 + x0*x1*x2^3*x4^3 + x0^3*x1*x3*x4^3 + x0^2*x1^2*x3*x4^3 + x0*x1^3*x3*x4^3 + x0^3*x2*x3*x4^3 + 3*x0^2*x1*x2*x3*x4^3 + 3*x0*x1^2*x2*x3*x4^3 + x1^3*x2*x3*x4^3 + x0^2*x2^2*x3*x4^3 + 3*x0*x1*x2^2*x3*x4^3 + x1^2*x2^2*x3*x4^3 + x0*x2^3*x3*x4^3 + x1*x2^3*x3*x4^3 + x0^2*x1*x3^2*x4^3 + x0*x1^2*x3^2*x4^3 + x0^2*x2*x3^2*x4^3 + 3*x0*x1*x2*x3^2*x4^3 + x1^2*x2*x3^2*x4^3 + x0*x2^2*x3^2*x4^3 + x1*x2^2*x3^2*x4^3 + x0*x1*x3^3*x4^3 + x0*x2*x3^3*x4^3 + x1*x2*x3^3*x4^3 + x0^3*x1^3*x2*x5 + x0^3*x1^2*x2^2*x5 + x0^2*x1^3*x2^2*x5 + x0^3*x1*x2^3*x5 + x0^2*x1^2*x2^3*x5 + x0*x1^3*x2^3*x5 + x0^3*x1^3*x3*x5 + 3*x0^3*x1^2*x2*x3*x5 + 3*x0^2*x1^3*x2*x3*x5 + 3*x0^3*x1*x2^2*x3*x5 + 5*x0^2*x1^2*x2^2*x3*x5 + 3*x0*x1^3*x2^2*x3*x5 + x0^3*x2^3*x3*x5 + 3*x0^2*x1*x2^3*x3*x5 + 3*x0*x1^2*x2^3*x3*x5 + x1^3*x2^3*x3*x5 + x0^3*x1^2*x3^2*x5 + x0^2*x1^3*x3^2*x5 + 3*x0^3*x1*x2*x3^2*x5 + 5*x0^2*x1^2*x2*x3^2*x5 + 3*x0*x1^3*x2*x3^2*x5 + x0^3*x2^2*x3^2*x5 + 5*x0^2*x1*x2^2*x3^2*x5 + 5*x0*x1^2*x2^2*x3^2*x5 + x1^3*x2^2*x3^2*x5 + x0^2*x2^3*x3^2*x5 + 3*x0*x1*x2^3*x3^2*x5 + x1^2*x2^3*x3^2*x5 + x0^3*x1*x3^3*x5 + x0^2*x1^2*x3^3*x5 + x0*x1^3*x3^3*x5 + x0^3*x2*x3^3*x5 + 3*x0^2*x1*x2*x3^3*x5 + 3*x0*x1^2*x2*x3^3*x5 + x1^3*x2*x3^3*x5 + x0^2*x2^2*x3^3*x5 + 3*x0*x1*x2^2*x3^3*x5 + x1^2*x2^2*x3^3*x5 + x0*x2^3*x3^3*x5 + x1*x2^3*x3^3*x5 + x0^3*x1^3*x4*x5 + 3*x0^3*x1^2*x2*x4*x5 + 3*x0^2*x1^3*x2*x4*x5 + 3*x0^3*x1*x2^2*x4*x5 + 5*x0^2*x1^2*x2^2*x4*x5 + 3*x0*x1^3*x2^2*x4*x5 + x0^3*x2^3*x4*x5 + 3*x0^2*x1*x2^3*x4*x5 + 3*x0*x1^2*x2^3*x4*x5 + x1^3*x2^3*x4*x5 + 3*x0^3*x1^2*x3*x4*x5 + 3*x0^2*x1^3*x3*x4*x5 + 6*x0^3*x1*x2*x3*x4*x5 + 12*x0^2*x1^2*x2*x3*x4*x5 + 6*x0*x1^3*x2*x3*x4*x5 + 3*x0^3*x2^2*x3*x4*x5 + 12*x0^2*x1*x2^2*x3*x4*x5 + 12*x0*x1^2*x2^2*x3*x4*x5 + 3*x1^3*x2^2*x3*x4*x5 + 3*x0^2*x2^3*x3*x4*x5 + 6*x0*x1*x2^3*x3*x4*x5 + 3*x1^2*x2^3*x3*x4*x5 + 3*x0^3*x1*x3^2*x4*x5 + 5*x0^2*x1^2*x3^2*x4*x5 + 3*x0*x1^3*x3^2*x4*x5 + 3*x0^3*x2*x3^2*x4*x5 + 12*x0^2*x1*x2*x3^2*x4*x5 + 12*x0*x1^2*x2*x3^2*x4*x5 + 3*x1^3*x2*x3^2*x4*x5 + 5*x0^2*x2^2*x3^2*x4*x5 + 12*x0*x1*x2^2*x3^2*x4*x5 + 5*x1^2*x2^2*x3^2*x4*x5 + 3*x0*x2^3*x3^2*x4*x5 + 3*x1*x2^3*x3^2*x4*x5 + x0^3*x3^3*x4*x5 + 3*x0^2*x1*x3^3*x4*x5 + 3*x0*x1^2*x3^3*x4*x5 + x1^3*x3^3*x4*x5 + 3*x0^2*x2*x3^3*x4*x5 + 6*x0*x1*x2*x3^3*x4*x5 + 3*x1^2*x2*x3^3*x4*x5 + 3*x0*x2^2*x3^3*x4*x5 + 3*x1*x2^2*x3^3*x4*x5 + x2^3*x3^3*x4*x5 + x0^3*x1^2*x4^2*x5 + x0^2*x1^3*x4^2*x5 + 3*x0^3*x1*x2*x4^2*x5 + 5*x0^2*x1^2*x2*x4^2*x5 + 3*x0*x1^3*x2*x4^2*x5 + x0^3*x2^2*x4^2*x5 + 5*x0^2*x1*x2^2*x4^2*x5 + 5*x0*x1^2*x2^2*x4^2*x5 + x1^3*x2^2*x4^2*x5 + x0^2*x2^3*x4^2*x5 + 3*x0*x1*x2^3*x4^2*x5 + x1^2*x2^3*x4^2*x5 + 3*x0^3*x1*x3*x4^2*x5 + 5*x0^2*x1^2*x3*x4^2*x5 + 3*x0*x1^3*x3*x4^2*x5 + 3*x0^3*x2*x3*x4^2*x5 + 12*x0^2*x1*x2*x3*x4^2*x5 + 12*x0*x1^2*x2*x3*x4^2*x5 + 3*x1^3*x2*x3*x4^2*x5 + 5*x0^2*x2^2*x3*x4^2*x5 + 12*x0*x1*x2^2*x3*x4^2*x5 + 5*x1^2*x2^2*x3*x4^2*x5 + 3*x0*x2^3*x3*x4^2*x5 + 3*x1*x2^3*x3*x4^2*x5 + x0^3*x3^2*x4^2*x5 + 5*x0^2*x1*x3^2*x4^2*x5 + 5*x0*x1^2*x3^2*x4^2*x5 + x1^3*x3^2*x4^2*x5 + 5*x0^2*x2*x3^2*x4^2*x5 + 12*x0*x1*x2*x3^2*x4^2*x5 + 5*x1^2*x2*x3^2*x4^2*x5 + 5*x0*x2^2*x3^2*x4^2*x5 + 5*x1*x2^2*x3^2*x4^2*x5 + x2^3*x3^2*x4^2*x5 + x0^2*x3^3*x4^2*x5 + 3*x0*x1*x3^3*x4^2*x5 + x1^2*x3^3*x4^2*x5 + 3*x0*x2*x3^3*x4^2*x5 + 3*x1*x2*x3^3*x4^2*x5 + x2^2*x3^3*x4^2*x5 + x0^3*x1*x4^3*x5 + x0^2*x1^2*x4^3*x5 + x0*x1^3*x4^3*x5 + x0^3*x2*x4^3*x5 + 3*x0^2*x1*x2*x4^3*x5 + 3*x0*x1^2*x2*x4^3*x5 + x1^3*x2*x4^3*x5 + x0^2*x2^2*x4^3*x5 + 3*x0*x1*x2^2*x4^3*x5 + x1^2*x2^2*x4^3*x5 + x0*x2^3*x4^3*x5 + x1*x2^3*x4^3*x5 + x0^3*x3*x4^3*x5 + 3*x0^2*x1*x3*x4^3*x5 + 3*x0*x1^2*x3*x4^3*x5 + x1^3*x3*x4^3*x5 + 3*x0^2*x2*x3*x4^3*x5 + 6*x0*x1*x2*x3*x4^3*x5 + 3*x1^2*x2*x3*x4^3*x5 + 3*x0*x2^2*x3*x4^3*x5 + 3*x1*x2^2*x3*x4^3*x5 + x2^3*x3*x4^3*x5 + x0^2*x3^2*x4^3*x5 + 3*x0*x1*x3^2*x4^3*x5 + x1^2*x3^2*x4^3*x5 + 3*x0*x2*x3^2*x4^3*x5 + 3*x1*x2*x3^2*x4^3*x5 + x2^2*x3^2*x4^3*x5 + x0*x3^3*x4^3*x5 + x1*x3^3*x4^3*x5 + x2*x3^3*x4^3*x5 + x0^3*x1^2*x2*x5^2 + x0^2*x1^3*x2*x5^2 + x0^3*x1*x2^2*x5^2 + 2*x0^2*x1^2*x2^2*x5^2 + x0*x1^3*x2^2*x5^2 + x0^2*x1*x2^3*x5^2 + x0*x1^2*x2^3*x5^2 + x0^3*x1^2*x3*x5^2 + x0^2*x1^3*x3*x5^2 + 3*x0^3*x1*x2*x3*x5^2 + 5*x0^2*x1^2*x2*x3*x5^2 + 3*x0*x1^3*x2*x3*x5^2 + x0^3*x2^2*x3*x5^2 + 5*x0^2*x1*x2^2*x3*x5^2 + 5*x0*x1^2*x2^2*x3*x5^2 + x1^3*x2^2*x3*x5^2 + x0^2*x2^3*x3*x5^2 + 3*x0*x1*x2^3*x3*x5^2 + x1^2*x2^3*x3*x5^2 + x0^3*x1*x3^2*x5^2 + 2*x0^2*x1^2*x3^2*x5^2 + x0*x1^3*x3^2*x5^2 + x0^3*x2*x3^2*x5^2 + 5*x0^2*x1*x2*x3^2*x5^2 + 5*x0*x1^2*x2*x3^2*x5^2 + x1^3*x2*x3^2*x5^2 + 2*x0^2*x2^2*x3^2*x5^2 + 5*x0*x1*x2^2*x3^2*x5^2 + 2*x1^2*x2^2*x3^2*x5^2 + x0*x2^3*x3^2*x5^2 + x1*x2^3*x3^2*x5^2 + x0^2*x1*x3^3*x5^2 + x0*x1^2*x3^3*x5^2 + x0^2*x2*x3^3*x5^2 + 3*x0*x1*x2*x3^3*x5^2 + x1^2*x2*x3^3*x5^2 + x0*x2^2*x3^3*x5^2 + x1*x2^2*x3^3*x5^2 + x0^3*x1^2*x4*x5^2 + x0^2*x1^3*x4*x5^2 + 3*x0^3*x1*x2*x4*x5^2 + 5*x0^2*x1^2*x2*x4*x5^2 + 3*x0*x1^3*x2*x4*x5^2 + x0^3*x2^2*x4*x5^2 + 5*x0^2*x1*x2^2*x4*x5^2 + 5*x0*x1^2*x2^2*x4*x5^2 + x1^3*x2^2*x4*x5^2 + x0^2*x2^3*x4*x5^2 + 3*x0*x1*x2^3*x4*x5^2 + x1^2*x2^3*x4*x5^2 + 3*x0^3*x1*x3*x4*x5^2 + 5*x0^2*x1^2*x3*x4*x5^2 + 3*x0*x1^3*x3*x4*x5^2 + 3*x0^3*x2*x3*x4*x5^2 + 12*x0^2*x1*x2*x3*x4*x5^2 + 12*x0*x1^2*x2*x3*x4*x5^2 + 3*x1^3*x2*x3*x4*x5^2 + 5*x0^2*x2^2*x3*x4*x5^2 + 12*x0*x1*x2^2*x3*x4*x5^2 + 5*x1^2*x2^2*x3*x4*x5^2 + 3*x0*x2^3*x3*x4*x5^2 + 3*x1*x2^3*x3*x4*x5^2 + x0^3*x3^2*x4*x5^2 + 5*x0^2*x1*x3^2*x4*x5^2 + 5*x0*x1^2*x3^2*x4*x5^2 + x1^3*x3^2*x4*x5^2 + 5*x0^2*x2*x3^2*x4*x5^2 + 12*x0*x1*x2*x3^2*x4*x5^2 + 5*x1^2*x2*x3^2*x4*x5^2 + 5*x0*x2^2*x3^2*x4*x5^2 + 5*x1*x2^2*x3^2*x4*x5^2 + x2^3*x3^2*x4*x5^2 + x0^2*x3^3*x4*x5^2 + 3*x0*x1*x3^3*x4*x5^2 + x1^2*x3^3*x4*x5^2 + 3*x0*x2*x3^3*x4*x5^2 + 3*x1*x2*x3^3*x4*x5^2 + x2^2*x3^3*x4*x5^2 + x0^3*x1*x4^2*x5^2 + 2*x0^2*x1^2*x4^2*x5^2 + x0*x1^3*x4^2*x5^2 + x0^3*x2*x4^2*x5^2 + 5*x0^2*x1*x2*x4^2*x5^2 + 5*x0*x1^2*x2*x4^2*x5^2 + x1^3*x2*x4^2*x5^2 + 2*x0^2*x2^2*x4^2*x5^2 + 5*x0*x1*x2^2*x4^2*x5^2 + 2*x1^2*x2^2*x4^2*x5^2 + x0*x2^3*x4^2*x5^2 + x1*x2^3*x4^2*x5^2 + x0^3*x3*x4^2*x5^2 + 5*x0^2*x1*x3*x4^2*x5^2 + 5*x0*x1^2*x3*x4^2*x5^2 + x1^3*x3*x4^2*x5^2 + 5*x0^2*x2*x3*x4^2*x5^2 + 12*x0*x1*x2*x3*x4^2*x5^2 + 5*x1^2*x2*x3*x4^2*x5^2 + 5*x0*x2^2*x3*x4^2*x5^2 + 5*x1*x2^2*x3*x4^2*x5^2 + x2^3*x3*x4^2*x5^2 + 2*x0^2*x3^2*x4^2*x5^2 + 5*x0*x1*x3^2*x4^2*x5^2 + 2*x1^2*x3^2*x4^2*x5^2 + 5*x0*x2*x3^2*x4^2*x5^2 + 5*x1*x2*x3^2*x4^2*x5^2 + 2*x2^2*x3^2*x4^2*x5^2 + x0*x3^3*x4^2*x5^2 + x1*x3^3*x4^2*x5^2 + x2*x3^3*x4^2*x5^2 + x0^2*x1*x4^3*x5^2 + x0*x1^2*x4^3*x5^2 + x0^2*x2*x4^3*x5^2 + 3*x0*x1*x2*x4^3*x5^2 + x1^2*x2*x4^3*x5^2 + x0*x2^2*x4^3*x5^2 + x1*x2^2*x4^3*x5^2 + x0^2*x3*x4^3*x5^2 + 3*x0*x1*x3*x4^3*x5^2 + x1^2*x3*x4^3*x5^2 + 3*x0*x2*x3*x4^3*x5^2 + 3*x1*x2*x3*x4^3*x5^2 + x2^2*x3*x4^3*x5^2 + x0*x3^2*x4^3*x5^2 + x1*x3^2*x4^3*x5^2 + x2*x3^2*x4^3*x5^2 + x0^3*x1*x2*x5^3 + x0^2*x1^2*x2*x5^3 + x0*x1^3*x2*x5^3 + x0^2*x1*x2^2*x5^3 + x0*x1^2*x2^2*x5^3 + x0*x1*x2^3*x5^3 + x0^3*x1*x3*x5^3 + x0^2*x1^2*x3*x5^3 + x0*x1^3*x3*x5^3 + x0^3*x2*x3*x5^3 + 3*x0^2*x1*x2*x3*x5^3 + 3*x0*x1^2*x2*x3*x5^3 + x1^3*x2*x3*x5^3 + x0^2*x2^2*x3*x5^3 + 3*x0*x1*x2^2*x3*x5^3 + x1^2*x2^2*x3*x5^3 + x0*x2^3*x3*x5^3 + x1*x2^3*x3*x5^3 + x0^2*x1*x3^2*x5^3 + x0*x1^2*x3^2*x5^3 + x0^2*x2*x3^2*x5^3 + 3*x0*x1*x2*x3^2*x5^3 + x1^2*x2*x3^2*x5^3 + x0*x2^2*x3^2*x5^3 + x1*x2^2*x3^2*x5^3 + x0*x1*x3^3*x5^3 + x0*x2*x3^3*x5^3 + x1*x2*x3^3*x5^3 + x0^3*x1*x4*x5^3 + x0^2*x1^2*x4*x5^3 + x0*x1^3*x4*x5^3 + x0^3*x2*x4*x5^3 + 3*x0^2*x1*x2*x4*x5^3 + 3*x0*x1^2*x2*x4*x5^3 + x1^3*x2*x4*x5^3 + x0^2*x2^2*x4*x5^3 + 3*x0*x1*x2^2*x4*x5^3 + x1^2*x2^2*x4*x5^3 + x0*x2^3*x4*x5^3 + x1*x2^3*x4*x5^3 + x0^3*x3*x4*x5^3 + 3*x0^2*x1*x3*x4*x5^3 + 3*x0*x1^2*x3*x4*x5^3 + x1^3*x3*x4*x5^3 + 3*x0^2*x2*x3*x4*x5^3 + 6*x0*x1*x2*x3*x4*x5^3 + 3*x1^2*x2*x3*x4*x5^3 + 3*x0*x2^2*x3*x4*x5^3 + 3*x1*x2^2*x3*x4*x5^3 + x2^3*x3*x4*x5^3 + x0^2*x3^2*x4*x5^3 + 3*x0*x1*x3^2*x4*x5^3 + x1^2*x3^2*x4*x5^3 + 3*x0*x2*x3^2*x4*x5^3 + 3*x1*x2*x3^2*x4*x5^3 + x2^2*x3^2*x4*x5^3 + x0*x3^3*x4*x5^3 + x1*x3^3*x4*x5^3 + x2*x3^3*x4*x5^3 + x0^2*x1*x4^2*x5^3 + x0*x1^2*x4^2*x5^3 + x0^2*x2*x4^2*x5^3 + 3*x0*x1*x2*x4^2*x5^3 + x1^2*x2*x4^2*x5^3 + x0*x2^2*x4^2*x5^3 + x1*x2^2*x4^2*x5^3 + x0^2*x3*x4^2*x5^3 + 3*x0*x1*x3*x4^2*x5^3 + x1^2*x3*x4^2*x5^3 + 3*x0*x2*x3*x4^2*x5^3 + 3*x1*x2*x3*x4^2*x5^3 + x2^2*x3*x4^2*x5^3 + x0*x3^2*x4^2*x5^3 + x1*x3^2*x4^2*x5^3 + x2*x3^2*x4^2*x5^3 + x0*x1*x4^3*x5^3 + x0*x2*x4^3*x5^3 + x1*x2*x4^3*x5^3 + x0*x3*x4^3*x5^3 + x1*x3*x4^3*x5^3 + x2*x3*x4^3*x5^3\n"
   ]
  },
  {
   "cell_type": "code",
   "execution_count": 36,
   "metadata": {},
   "outputs": [
    {
     "name": "stdout",
     "output_type": "stream",
     "text": [
      "[120]\n"
     ]
    }
   ],
   "source": [
    "Derivs_count_specific(F,4)"
   ]
  },
  {
   "cell_type": "code",
   "execution_count": 37,
   "metadata": {},
   "outputs": [],
   "source": [
    "F=x0^3*x1^2*x2^2*x3 + x0^2*x1^3*x2^2*x3 + x0^2*x1^2*x2^3*x3 + x0^3*x1^2*x2*x3^2 + x0^2*x1^3*x2*x3^2 + x0^3*x1*x2^2*x3^2 + 3*x0^2*x1^2*x2^2*x3^2 + x0*x1^3*x2^2*x3^2 + x0^2*x1*x2^3*x3^2 + x0*x1^2*x2^3*x3^2 + x0^2*x1^2*x2*x3^3 + x0^2*x1*x2^2*x3^3 + x0*x1^2*x2^2*x3^3 + x0^3*x1^2*x2^2*x4 + x0^2*x1^3*x2^2*x4 + x0^2*x1^2*x2^3*x4 + 2*x0^3*x1^2*x2*x3*x4 + 2*x0^2*x1^3*x2*x3*x4 + 2*x0^3*x1*x2^2*x3*x4 + 6*x0^2*x1^2*x2^2*x3*x4 + 2*x0*x1^3*x2^2*x3*x4 + 2*x0^2*x1*x2^3*x3*x4 + 2*x0*x1^2*x2^3*x3*x4 + x0^3*x1^2*x3^2*x4 + x0^2*x1^3*x3^2*x4 + 2*x0^3*x1*x2*x3^2*x4 + 6*x0^2*x1^2*x2*x3^2*x4 + 2*x0*x1^3*x2*x3^2*x4 + x0^3*x2^2*x3^2*x4 + 6*x0^2*x1*x2^2*x3^2*x4 + 6*x0*x1^2*x2^2*x3^2*x4 + x1^3*x2^2*x3^2*x4 + x0^2*x2^3*x3^2*x4 + 2*x0*x1*x2^3*x3^2*x4 + x1^2*x2^3*x3^2*x4 + x0^2*x1^2*x3^3*x4 + 2*x0^2*x1*x2*x3^3*x4 + 2*x0*x1^2*x2*x3^3*x4 + x0^2*x2^2*x3^3*x4 + 2*x0*x1*x2^2*x3^3*x4 + x1^2*x2^2*x3^3*x4 + x0^3*x1^2*x2*x4^2 + x0^2*x1^3*x2*x4^2 + x0^3*x1*x2^2*x4^2 + 3*x0^2*x1^2*x2^2*x4^2 + x0*x1^3*x2^2*x4^2 + x0^2*x1*x2^3*x4^2 + x0*x1^2*x2^3*x4^2 + x0^3*x1^2*x3*x4^2 + x0^2*x1^3*x3*x4^2 + 2*x0^3*x1*x2*x3*x4^2 + 6*x0^2*x1^2*x2*x3*x4^2 + 2*x0*x1^3*x2*x3*x4^2 + x0^3*x2^2*x3*x4^2 + 6*x0^2*x1*x2^2*x3*x4^2 + 6*x0*x1^2*x2^2*x3*x4^2 + x1^3*x2^2*x3*x4^2 + x0^2*x2^3*x3*x4^2 + 2*x0*x1*x2^3*x3*x4^2 + x1^2*x2^3*x3*x4^2 + x0^3*x1*x3^2*x4^2 + 3*x0^2*x1^2*x3^2*x4^2 + x0*x1^3*x3^2*x4^2 + x0^3*x2*x3^2*x4^2 + 6*x0^2*x1*x2*x3^2*x4^2 + 6*x0*x1^2*x2*x3^2*x4^2 + x1^3*x2*x3^2*x4^2 + 3*x0^2*x2^2*x3^2*x4^2 + 6*x0*x1*x2^2*x3^2*x4^2 + 3*x1^2*x2^2*x3^2*x4^2 + x0*x2^3*x3^2*x4^2 + x1*x2^3*x3^2*x4^2 + x0^2*x1*x3^3*x4^2 + x0*x1^2*x3^3*x4^2 + x0^2*x2*x3^3*x4^2 + 2*x0*x1*x2*x3^3*x4^2 + x1^2*x2*x3^3*x4^2 + x0*x2^2*x3^3*x4^2 + x1*x2^2*x3^3*x4^2 + x0^2*x1^2*x2*x4^3 + x0^2*x1*x2^2*x4^3 + x0*x1^2*x2^2*x4^3 + x0^2*x1^2*x3*x4^3 + 2*x0^2*x1*x2*x3*x4^3 + 2*x0*x1^2*x2*x3*x4^3 + x0^2*x2^2*x3*x4^3 + 2*x0*x1*x2^2*x3*x4^3 + x1^2*x2^2*x3*x4^3 + x0^2*x1*x3^2*x4^3 + x0*x1^2*x3^2*x4^3 + x0^2*x2*x3^2*x4^3 + 2*x0*x1*x2*x3^2*x4^3 + x1^2*x2*x3^2*x4^3 + x0*x2^2*x3^2*x4^3 + x1*x2^2*x3^2*x4^3 + x0^3*x1^2*x2^2*x5 + x0^2*x1^3*x2^2*x5 + x0^2*x1^2*x2^3*x5 + 2*x0^3*x1^2*x2*x3*x5 + 2*x0^2*x1^3*x2*x3*x5 + 2*x0^3*x1*x2^2*x3*x5 + 6*x0^2*x1^2*x2^2*x3*x5 + 2*x0*x1^3*x2^2*x3*x5 + 2*x0^2*x1*x2^3*x3*x5 + 2*x0*x1^2*x2^3*x3*x5 + x0^3*x1^2*x3^2*x5 + x0^2*x1^3*x3^2*x5 + 2*x0^3*x1*x2*x3^2*x5 + 6*x0^2*x1^2*x2*x3^2*x5 + 2*x0*x1^3*x2*x3^2*x5 + x0^3*x2^2*x3^2*x5 + 6*x0^2*x1*x2^2*x3^2*x5 + 6*x0*x1^2*x2^2*x3^2*x5 + x1^3*x2^2*x3^2*x5 + x0^2*x2^3*x3^2*x5 + 2*x0*x1*x2^3*x3^2*x5 + x1^2*x2^3*x3^2*x5 + x0^2*x1^2*x3^3*x5 + 2*x0^2*x1*x2*x3^3*x5 + 2*x0*x1^2*x2*x3^3*x5 + x0^2*x2^2*x3^3*x5 + 2*x0*x1*x2^2*x3^3*x5 + x1^2*x2^2*x3^3*x5 + 2*x0^3*x1^2*x2*x4*x5 + 2*x0^2*x1^3*x2*x4*x5 + 2*x0^3*x1*x2^2*x4*x5 + 6*x0^2*x1^2*x2^2*x4*x5 + 2*x0*x1^3*x2^2*x4*x5 + 2*x0^2*x1*x2^3*x4*x5 + 2*x0*x1^2*x2^3*x4*x5 + 2*x0^3*x1^2*x3*x4*x5 + 2*x0^2*x1^3*x3*x4*x5 + 5*x0^3*x1*x2*x3*x4*x5 + 13*x0^2*x1^2*x2*x3*x4*x5 + 5*x0*x1^3*x2*x3*x4*x5 + 2*x0^3*x2^2*x3*x4*x5 + 13*x0^2*x1*x2^2*x3*x4*x5 + 13*x0*x1^2*x2^2*x3*x4*x5 + 2*x1^3*x2^2*x3*x4*x5 + 2*x0^2*x2^3*x3*x4*x5 + 5*x0*x1*x2^3*x3*x4*x5 + 2*x1^2*x2^3*x3*x4*x5 + 2*x0^3*x1*x3^2*x4*x5 + 6*x0^2*x1^2*x3^2*x4*x5 + 2*x0*x1^3*x3^2*x4*x5 + 2*x0^3*x2*x3^2*x4*x5 + 13*x0^2*x1*x2*x3^2*x4*x5 + 13*x0*x1^2*x2*x3^2*x4*x5 + 2*x1^3*x2*x3^2*x4*x5 + 6*x0^2*x2^2*x3^2*x4*x5 + 13*x0*x1*x2^2*x3^2*x4*x5 + 6*x1^2*x2^2*x3^2*x4*x5 + 2*x0*x2^3*x3^2*x4*x5 + 2*x1*x2^3*x3^2*x4*x5 + 2*x0^2*x1*x3^3*x4*x5 + 2*x0*x1^2*x3^3*x4*x5 + 2*x0^2*x2*x3^3*x4*x5 + 5*x0*x1*x2*x3^3*x4*x5 + 2*x1^2*x2*x3^3*x4*x5 + 2*x0*x2^2*x3^3*x4*x5 + 2*x1*x2^2*x3^3*x4*x5 + x0^3*x1^2*x4^2*x5 + x0^2*x1^3*x4^2*x5 + 2*x0^3*x1*x2*x4^2*x5 + 6*x0^2*x1^2*x2*x4^2*x5 + 2*x0*x1^3*x2*x4^2*x5 + x0^3*x2^2*x4^2*x5 + 6*x0^2*x1*x2^2*x4^2*x5 + 6*x0*x1^2*x2^2*x4^2*x5 + x1^3*x2^2*x4^2*x5 + x0^2*x2^3*x4^2*x5 + 2*x0*x1*x2^3*x4^2*x5 + x1^2*x2^3*x4^2*x5 + 2*x0^3*x1*x3*x4^2*x5 + 6*x0^2*x1^2*x3*x4^2*x5 + 2*x0*x1^3*x3*x4^2*x5 + 2*x0^3*x2*x3*x4^2*x5 + 13*x0^2*x1*x2*x3*x4^2*x5 + 13*x0*x1^2*x2*x3*x4^2*x5 + 2*x1^3*x2*x3*x4^2*x5 + 6*x0^2*x2^2*x3*x4^2*x5 + 13*x0*x1*x2^2*x3*x4^2*x5 + 6*x1^2*x2^2*x3*x4^2*x5 + 2*x0*x2^3*x3*x4^2*x5 + 2*x1*x2^3*x3*x4^2*x5 + x0^3*x3^2*x4^2*x5 + 6*x0^2*x1*x3^2*x4^2*x5 + 6*x0*x1^2*x3^2*x4^2*x5 + x1^3*x3^2*x4^2*x5 + 6*x0^2*x2*x3^2*x4^2*x5 + 13*x0*x1*x2*x3^2*x4^2*x5 + 6*x1^2*x2*x3^2*x4^2*x5 + 6*x0*x2^2*x3^2*x4^2*x5 + 6*x1*x2^2*x3^2*x4^2*x5 + x2^3*x3^2*x4^2*x5 + x0^2*x3^3*x4^2*x5 + 2*x0*x1*x3^3*x4^2*x5 + x1^2*x3^3*x4^2*x5 + 2*x0*x2*x3^3*x4^2*x5 + 2*x1*x2*x3^3*x4^2*x5 + x2^2*x3^3*x4^2*x5 + x0^2*x1^2*x4^3*x5 + 2*x0^2*x1*x2*x4^3*x5 + 2*x0*x1^2*x2*x4^3*x5 + x0^2*x2^2*x4^3*x5 + 2*x0*x1*x2^2*x4^3*x5 + x1^2*x2^2*x4^3*x5 + 2*x0^2*x1*x3*x4^3*x5 + 2*x0*x1^2*x3*x4^3*x5 + 2*x0^2*x2*x3*x4^3*x5 + 5*x0*x1*x2*x3*x4^3*x5 + 2*x1^2*x2*x3*x4^3*x5 + 2*x0*x2^2*x3*x4^3*x5 + 2*x1*x2^2*x3*x4^3*x5 + x0^2*x3^2*x4^3*x5 + 2*x0*x1*x3^2*x4^3*x5 + x1^2*x3^2*x4^3*x5 + 2*x0*x2*x3^2*x4^3*x5 + 2*x1*x2*x3^2*x4^3*x5 + x2^2*x3^2*x4^3*x5 + x0^3*x1^2*x2*x5^2 + x0^2*x1^3*x2*x5^2 + x0^3*x1*x2^2*x5^2 + 3*x0^2*x1^2*x2^2*x5^2 + x0*x1^3*x2^2*x5^2 + x0^2*x1*x2^3*x5^2 + x0*x1^2*x2^3*x5^2 + x0^3*x1^2*x3*x5^2 + x0^2*x1^3*x3*x5^2 + 2*x0^3*x1*x2*x3*x5^2 + 6*x0^2*x1^2*x2*x3*x5^2 + 2*x0*x1^3*x2*x3*x5^2 + x0^3*x2^2*x3*x5^2 + 6*x0^2*x1*x2^2*x3*x5^2 + 6*x0*x1^2*x2^2*x3*x5^2 + x1^3*x2^2*x3*x5^2 + x0^2*x2^3*x3*x5^2 + 2*x0*x1*x2^3*x3*x5^2 + x1^2*x2^3*x3*x5^2 + x0^3*x1*x3^2*x5^2 + 3*x0^2*x1^2*x3^2*x5^2 + x0*x1^3*x3^2*x5^2 + x0^3*x2*x3^2*x5^2 + 6*x0^2*x1*x2*x3^2*x5^2 + 6*x0*x1^2*x2*x3^2*x5^2 + x1^3*x2*x3^2*x5^2 + 3*x0^2*x2^2*x3^2*x5^2 + 6*x0*x1*x2^2*x3^2*x5^2 + 3*x1^2*x2^2*x3^2*x5^2 + x0*x2^3*x3^2*x5^2 + x1*x2^3*x3^2*x5^2 + x0^2*x1*x3^3*x5^2 + x0*x1^2*x3^3*x5^2 + x0^2*x2*x3^3*x5^2 + 2*x0*x1*x2*x3^3*x5^2 + x1^2*x2*x3^3*x5^2 + x0*x2^2*x3^3*x5^2 + x1*x2^2*x3^3*x5^2 + x0^3*x1^2*x4*x5^2 + x0^2*x1^3*x4*x5^2 + 2*x0^3*x1*x2*x4*x5^2 + 6*x0^2*x1^2*x2*x4*x5^2 + 2*x0*x1^3*x2*x4*x5^2 + x0^3*x2^2*x4*x5^2 + 6*x0^2*x1*x2^2*x4*x5^2 + 6*x0*x1^2*x2^2*x4*x5^2 + x1^3*x2^2*x4*x5^2 + x0^2*x2^3*x4*x5^2 + 2*x0*x1*x2^3*x4*x5^2 + x1^2*x2^3*x4*x5^2 + 2*x0^3*x1*x3*x4*x5^2 + 6*x0^2*x1^2*x3*x4*x5^2 + 2*x0*x1^3*x3*x4*x5^2 + 2*x0^3*x2*x3*x4*x5^2 + 13*x0^2*x1*x2*x3*x4*x5^2 + 13*x0*x1^2*x2*x3*x4*x5^2 + 2*x1^3*x2*x3*x4*x5^2 + 6*x0^2*x2^2*x3*x4*x5^2 + 13*x0*x1*x2^2*x3*x4*x5^2 + 6*x1^2*x2^2*x3*x4*x5^2 + 2*x0*x2^3*x3*x4*x5^2 + 2*x1*x2^3*x3*x4*x5^2 + x0^3*x3^2*x4*x5^2 + 6*x0^2*x1*x3^2*x4*x5^2 + 6*x0*x1^2*x3^2*x4*x5^2 + x1^3*x3^2*x4*x5^2 + 6*x0^2*x2*x3^2*x4*x5^2 + 13*x0*x1*x2*x3^2*x4*x5^2 + 6*x1^2*x2*x3^2*x4*x5^2 + 6*x0*x2^2*x3^2*x4*x5^2 + 6*x1*x2^2*x3^2*x4*x5^2 + x2^3*x3^2*x4*x5^2 + x0^2*x3^3*x4*x5^2 + 2*x0*x1*x3^3*x4*x5^2 + x1^2*x3^3*x4*x5^2 + 2*x0*x2*x3^3*x4*x5^2 + 2*x1*x2*x3^3*x4*x5^2 + x2^2*x3^3*x4*x5^2 + x0^3*x1*x4^2*x5^2 + 3*x0^2*x1^2*x4^2*x5^2 + x0*x1^3*x4^2*x5^2 + x0^3*x2*x4^2*x5^2 + 6*x0^2*x1*x2*x4^2*x5^2 + 6*x0*x1^2*x2*x4^2*x5^2 + x1^3*x2*x4^2*x5^2 + 3*x0^2*x2^2*x4^2*x5^2 + 6*x0*x1*x2^2*x4^2*x5^2 + 3*x1^2*x2^2*x4^2*x5^2 + x0*x2^3*x4^2*x5^2 + x1*x2^3*x4^2*x5^2 + x0^3*x3*x4^2*x5^2 + 6*x0^2*x1*x3*x4^2*x5^2 + 6*x0*x1^2*x3*x4^2*x5^2 + x1^3*x3*x4^2*x5^2 + 6*x0^2*x2*x3*x4^2*x5^2 + 13*x0*x1*x2*x3*x4^2*x5^2 + 6*x1^2*x2*x3*x4^2*x5^2 + 6*x0*x2^2*x3*x4^2*x5^2 + 6*x1*x2^2*x3*x4^2*x5^2 + x2^3*x3*x4^2*x5^2 + 3*x0^2*x3^2*x4^2*x5^2 + 6*x0*x1*x3^2*x4^2*x5^2 + 3*x1^2*x3^2*x4^2*x5^2 + 6*x0*x2*x3^2*x4^2*x5^2 + 6*x1*x2*x3^2*x4^2*x5^2 + 3*x2^2*x3^2*x4^2*x5^2 + x0*x3^3*x4^2*x5^2 + x1*x3^3*x4^2*x5^2 + x2*x3^3*x4^2*x5^2 + x0^2*x1*x4^3*x5^2 + x0*x1^2*x4^3*x5^2 + x0^2*x2*x4^3*x5^2 + 2*x0*x1*x2*x4^3*x5^2 + x1^2*x2*x4^3*x5^2 + x0*x2^2*x4^3*x5^2 + x1*x2^2*x4^3*x5^2 + x0^2*x3*x4^3*x5^2 + 2*x0*x1*x3*x4^3*x5^2 + x1^2*x3*x4^3*x5^2 + 2*x0*x2*x3*x4^3*x5^2 + 2*x1*x2*x3*x4^3*x5^2 + x2^2*x3*x4^3*x5^2 + x0*x3^2*x4^3*x5^2 + x1*x3^2*x4^3*x5^2 + x2*x3^2*x4^3*x5^2 + x0^2*x1^2*x2*x5^3 + x0^2*x1*x2^2*x5^3 + x0*x1^2*x2^2*x5^3 + x0^2*x1^2*x3*x5^3 + 2*x0^2*x1*x2*x3*x5^3 + 2*x0*x1^2*x2*x3*x5^3 + x0^2*x2^2*x3*x5^3 + 2*x0*x1*x2^2*x3*x5^3 + x1^2*x2^2*x3*x5^3 + x0^2*x1*x3^2*x5^3 + x0*x1^2*x3^2*x5^3 + x0^2*x2*x3^2*x5^3 + 2*x0*x1*x2*x3^2*x5^3 + x1^2*x2*x3^2*x5^3 + x0*x2^2*x3^2*x5^3 + x1*x2^2*x3^2*x5^3 + x0^2*x1^2*x4*x5^3 + 2*x0^2*x1*x2*x4*x5^3 + 2*x0*x1^2*x2*x4*x5^3 + x0^2*x2^2*x4*x5^3 + 2*x0*x1*x2^2*x4*x5^3 + x1^2*x2^2*x4*x5^3 + 2*x0^2*x1*x3*x4*x5^3 + 2*x0*x1^2*x3*x4*x5^3 + 2*x0^2*x2*x3*x4*x5^3 + 5*x0*x1*x2*x3*x4*x5^3 + 2*x1^2*x2*x3*x4*x5^3 + 2*x0*x2^2*x3*x4*x5^3 + 2*x1*x2^2*x3*x4*x5^3 + x0^2*x3^2*x4*x5^3 + 2*x0*x1*x3^2*x4*x5^3 + x1^2*x3^2*x4*x5^3 + 2*x0*x2*x3^2*x4*x5^3 + 2*x1*x2*x3^2*x4*x5^3 + x2^2*x3^2*x4*x5^3 + x0^2*x1*x4^2*x5^3 + x0*x1^2*x4^2*x5^3 + x0^2*x2*x4^2*x5^3 + 2*x0*x1*x2*x4^2*x5^3 + x1^2*x2*x4^2*x5^3 + x0*x2^2*x4^2*x5^3 + x1*x2^2*x4^2*x5^3 + x0^2*x3*x4^2*x5^3 + 2*x0*x1*x3*x4^2*x5^3 + x1^2*x3*x4^2*x5^3 + 2*x0*x2*x3*x4^2*x5^3 + 2*x1*x2*x3*x4^2*x5^3 + x2^2*x3*x4^2*x5^3 + x0*x3^2*x4^2*x5^3 + x1*x3^2*x4^2*x5^3 + x2*x3^2*x4^2*x5^3\n"
   ]
  },
  {
   "cell_type": "code",
   "execution_count": 38,
   "metadata": {},
   "outputs": [
    {
     "name": "stdout",
     "output_type": "stream",
     "text": [
      "[104]\n"
     ]
    }
   ],
   "source": [
    "Derivs_count_specific(F,4)"
   ]
  },
  {
   "cell_type": "code",
   "execution_count": 39,
   "metadata": {},
   "outputs": [],
   "source": [
    "F=x0^3*x1^2*x2*x3*x4 + x0^2*x1^3*x2*x3*x4 + x0^3*x1*x2^2*x3*x4 + 2*x0^2*x1^2*x2^2*x3*x4 + x0*x1^3*x2^2*x3*x4 + x0^2*x1*x2^3*x3*x4 + x0*x1^2*x2^3*x3*x4 + x0^3*x1*x2*x3^2*x4 + 2*x0^2*x1^2*x2*x3^2*x4 + x0*x1^3*x2*x3^2*x4 + 2*x0^2*x1*x2^2*x3^2*x4 + 2*x0*x1^2*x2^2*x3^2*x4 + x0*x1*x2^3*x3^2*x4 + x0^2*x1*x2*x3^3*x4 + x0*x1^2*x2*x3^3*x4 + x0*x1*x2^2*x3^3*x4 + x0^3*x1*x2*x3*x4^2 + 2*x0^2*x1^2*x2*x3*x4^2 + x0*x1^3*x2*x3*x4^2 + 2*x0^2*x1*x2^2*x3*x4^2 + 2*x0*x1^2*x2^2*x3*x4^2 + x0*x1*x2^3*x3*x4^2 + 2*x0^2*x1*x2*x3^2*x4^2 + 2*x0*x1^2*x2*x3^2*x4^2 + 2*x0*x1*x2^2*x3^2*x4^2 + x0*x1*x2*x3^3*x4^2 + x0^2*x1*x2*x3*x4^3 + x0*x1^2*x2*x3*x4^3 + x0*x1*x2^2*x3*x4^3 + x0*x1*x2*x3^2*x4^3 + x0^3*x1^2*x2*x3*x5 + x0^2*x1^3*x2*x3*x5 + x0^3*x1*x2^2*x3*x5 + 2*x0^2*x1^2*x2^2*x3*x5 + x0*x1^3*x2^2*x3*x5 + x0^2*x1*x2^3*x3*x5 + x0*x1^2*x2^3*x3*x5 + x0^3*x1*x2*x3^2*x5 + 2*x0^2*x1^2*x2*x3^2*x5 + x0*x1^3*x2*x3^2*x5 + 2*x0^2*x1*x2^2*x3^2*x5 + 2*x0*x1^2*x2^2*x3^2*x5 + x0*x1*x2^3*x3^2*x5 + x0^2*x1*x2*x3^3*x5 + x0*x1^2*x2*x3^3*x5 + x0*x1*x2^2*x3^3*x5 + x0^3*x1^2*x2*x4*x5 + x0^2*x1^3*x2*x4*x5 + x0^3*x1*x2^2*x4*x5 + 2*x0^2*x1^2*x2^2*x4*x5 + x0*x1^3*x2^2*x4*x5 + x0^2*x1*x2^3*x4*x5 + x0*x1^2*x2^3*x4*x5 + x0^3*x1^2*x3*x4*x5 + x0^2*x1^3*x3*x4*x5 + 4*x0^3*x1*x2*x3*x4*x5 + 8*x0^2*x1^2*x2*x3*x4*x5 + 4*x0*x1^3*x2*x3*x4*x5 + x0^3*x2^2*x3*x4*x5 + 8*x0^2*x1*x2^2*x3*x4*x5 + 8*x0*x1^2*x2^2*x3*x4*x5 + x1^3*x2^2*x3*x4*x5 + x0^2*x2^3*x3*x4*x5 + 4*x0*x1*x2^3*x3*x4*x5 + x1^2*x2^3*x3*x4*x5 + x0^3*x1*x3^2*x4*x5 + 2*x0^2*x1^2*x3^2*x4*x5 + x0*x1^3*x3^2*x4*x5 + x0^3*x2*x3^2*x4*x5 + 8*x0^2*x1*x2*x3^2*x4*x5 + 8*x0*x1^2*x2*x3^2*x4*x5 + x1^3*x2*x3^2*x4*x5 + 2*x0^2*x2^2*x3^2*x4*x5 + 8*x0*x1*x2^2*x3^2*x4*x5 + 2*x1^2*x2^2*x3^2*x4*x5 + x0*x2^3*x3^2*x4*x5 + x1*x2^3*x3^2*x4*x5 + x0^2*x1*x3^3*x4*x5 + x0*x1^2*x3^3*x4*x5 + x0^2*x2*x3^3*x4*x5 + 4*x0*x1*x2*x3^3*x4*x5 + x1^2*x2*x3^3*x4*x5 + x0*x2^2*x3^3*x4*x5 + x1*x2^2*x3^3*x4*x5 + x0^3*x1*x2*x4^2*x5 + 2*x0^2*x1^2*x2*x4^2*x5 + x0*x1^3*x2*x4^2*x5 + 2*x0^2*x1*x2^2*x4^2*x5 + 2*x0*x1^2*x2^2*x4^2*x5 + x0*x1*x2^3*x4^2*x5 + x0^3*x1*x3*x4^2*x5 + 2*x0^2*x1^2*x3*x4^2*x5 + x0*x1^3*x3*x4^2*x5 + x0^3*x2*x3*x4^2*x5 + 8*x0^2*x1*x2*x3*x4^2*x5 + 8*x0*x1^2*x2*x3*x4^2*x5 + x1^3*x2*x3*x4^2*x5 + 2*x0^2*x2^2*x3*x4^2*x5 + 8*x0*x1*x2^2*x3*x4^2*x5 + 2*x1^2*x2^2*x3*x4^2*x5 + x0*x2^3*x3*x4^2*x5 + x1*x2^3*x3*x4^2*x5 + 2*x0^2*x1*x3^2*x4^2*x5 + 2*x0*x1^2*x3^2*x4^2*x5 + 2*x0^2*x2*x3^2*x4^2*x5 + 8*x0*x1*x2*x3^2*x4^2*x5 + 2*x1^2*x2*x3^2*x4^2*x5 + 2*x0*x2^2*x3^2*x4^2*x5 + 2*x1*x2^2*x3^2*x4^2*x5 + x0*x1*x3^3*x4^2*x5 + x0*x2*x3^3*x4^2*x5 + x1*x2*x3^3*x4^2*x5 + x0^2*x1*x2*x4^3*x5 + x0*x1^2*x2*x4^3*x5 + x0*x1*x2^2*x4^3*x5 + x0^2*x1*x3*x4^3*x5 + x0*x1^2*x3*x4^3*x5 + x0^2*x2*x3*x4^3*x5 + 4*x0*x1*x2*x3*x4^3*x5 + x1^2*x2*x3*x4^3*x5 + x0*x2^2*x3*x4^3*x5 + x1*x2^2*x3*x4^3*x5 + x0*x1*x3^2*x4^3*x5 + x0*x2*x3^2*x4^3*x5 + x1*x2*x3^2*x4^3*x5 + x0^3*x1*x2*x3*x5^2 + 2*x0^2*x1^2*x2*x3*x5^2 + x0*x1^3*x2*x3*x5^2 + 2*x0^2*x1*x2^2*x3*x5^2 + 2*x0*x1^2*x2^2*x3*x5^2 + x0*x1*x2^3*x3*x5^2 + 2*x0^2*x1*x2*x3^2*x5^2 + 2*x0*x1^2*x2*x3^2*x5^2 + 2*x0*x1*x2^2*x3^2*x5^2 + x0*x1*x2*x3^3*x5^2 + x0^3*x1*x2*x4*x5^2 + 2*x0^2*x1^2*x2*x4*x5^2 + x0*x1^3*x2*x4*x5^2 + 2*x0^2*x1*x2^2*x4*x5^2 + 2*x0*x1^2*x2^2*x4*x5^2 + x0*x1*x2^3*x4*x5^2 + x0^3*x1*x3*x4*x5^2 + 2*x0^2*x1^2*x3*x4*x5^2 + x0*x1^3*x3*x4*x5^2 + x0^3*x2*x3*x4*x5^2 + 8*x0^2*x1*x2*x3*x4*x5^2 + 8*x0*x1^2*x2*x3*x4*x5^2 + x1^3*x2*x3*x4*x5^2 + 2*x0^2*x2^2*x3*x4*x5^2 + 8*x0*x1*x2^2*x3*x4*x5^2 + 2*x1^2*x2^2*x3*x4*x5^2 + x0*x2^3*x3*x4*x5^2 + x1*x2^3*x3*x4*x5^2 + 2*x0^2*x1*x3^2*x4*x5^2 + 2*x0*x1^2*x3^2*x4*x5^2 + 2*x0^2*x2*x3^2*x4*x5^2 + 8*x0*x1*x2*x3^2*x4*x5^2 + 2*x1^2*x2*x3^2*x4*x5^2 + 2*x0*x2^2*x3^2*x4*x5^2 + 2*x1*x2^2*x3^2*x4*x5^2 + x0*x1*x3^3*x4*x5^2 + x0*x2*x3^3*x4*x5^2 + x1*x2*x3^3*x4*x5^2 + 2*x0^2*x1*x2*x4^2*x5^2 + 2*x0*x1^2*x2*x4^2*x5^2 + 2*x0*x1*x2^2*x4^2*x5^2 + 2*x0^2*x1*x3*x4^2*x5^2 + 2*x0*x1^2*x3*x4^2*x5^2 + 2*x0^2*x2*x3*x4^2*x5^2 + 8*x0*x1*x2*x3*x4^2*x5^2 + 2*x1^2*x2*x3*x4^2*x5^2 + 2*x0*x2^2*x3*x4^2*x5^2 + 2*x1*x2^2*x3*x4^2*x5^2 + 2*x0*x1*x3^2*x4^2*x5^2 + 2*x0*x2*x3^2*x4^2*x5^2 + 2*x1*x2*x3^2*x4^2*x5^2 + x0*x1*x2*x4^3*x5^2 + x0*x1*x3*x4^3*x5^2 + x0*x2*x3*x4^3*x5^2 + x1*x2*x3*x4^3*x5^2 + x0^2*x1*x2*x3*x5^3 + x0*x1^2*x2*x3*x5^3 + x0*x1*x2^2*x3*x5^3 + x0*x1*x2*x3^2*x5^3 + x0^2*x1*x2*x4*x5^3 + x0*x1^2*x2*x4*x5^3 + x0*x1*x2^2*x4*x5^3 + x0^2*x1*x3*x4*x5^3 + x0*x1^2*x3*x4*x5^3 + x0^2*x2*x3*x4*x5^3 + 4*x0*x1*x2*x3*x4*x5^3 + x1^2*x2*x3*x4*x5^3 + x0*x2^2*x3*x4*x5^3 + x1*x2^2*x3*x4*x5^3 + x0*x1*x3^2*x4*x5^3 + x0*x2*x3^2*x4*x5^3 + x1*x2*x3^2*x4*x5^3 + x0*x1*x2*x4^2*x5^3 + x0*x1*x3*x4^2*x5^3 + x0*x2*x3*x4^2*x5^3 + x1*x2*x3*x4^2*x5^3\n"
   ]
  },
  {
   "cell_type": "code",
   "execution_count": 40,
   "metadata": {},
   "outputs": [
    {
     "name": "stdout",
     "output_type": "stream",
     "text": [
      "[105]\n"
     ]
    }
   ],
   "source": [
    "Derivs_count_specific(F,4)"
   ]
  },
  {
   "cell_type": "code",
   "execution_count": 41,
   "metadata": {},
   "outputs": [],
   "source": [
    "F=x0^3*x1*x2*x3*x4*x5 + x0^2*x1^2*x2*x3*x4*x5 + x0*x1^3*x2*x3*x4*x5 + x0^2*x1*x2^2*x3*x4*x5 + x0*x1^2*x2^2*x3*x4*x5 + x0*x1*x2^3*x3*x4*x5 + x0^2*x1*x2*x3^2*x4*x5 + x0*x1^2*x2*x3^2*x4*x5 + x0*x1*x2^2*x3^2*x4*x5 + x0*x1*x2*x3^3*x4*x5 + x0^2*x1*x2*x3*x4^2*x5 + x0*x1^2*x2*x3*x4^2*x5 + x0*x1*x2^2*x3*x4^2*x5 + x0*x1*x2*x3^2*x4^2*x5 + x0*x1*x2*x3*x4^3*x5 + x0^2*x1*x2*x3*x4*x5^2 + x0*x1^2*x2*x3*x4*x5^2 + x0*x1*x2^2*x3*x4*x5^2 + x0*x1*x2*x3^2*x4*x5^2 + x0*x1*x2*x3*x4^2*x5^2 + x0*x1*x2*x3*x4*x5^3\n"
   ]
  },
  {
   "cell_type": "code",
   "execution_count": 42,
   "metadata": {},
   "outputs": [
    {
     "name": "stdout",
     "output_type": "stream",
     "text": [
      "[50]\n"
     ]
    }
   ],
   "source": [
    "Derivs_count_specific(F,4)"
   ]
  },
  {
   "cell_type": "code",
   "execution_count": 19,
   "metadata": {},
   "outputs": [
    {
     "data": {
      "text/plain": [
       "x0^5 + x0^3*x1^2 + x0^2*x1^3 + x1^5 + x0^3*x2^2 + x1^3*x2^2 + x0^2*x2^3 + x1^2*x2^3 + x2^5"
      ]
     },
     "execution_count": 19,
     "metadata": {},
     "output_type": "execute_result"
    }
   ],
   "source": [
    "p[3,2].expand(3)"
   ]
  },
  {
   "cell_type": "code",
   "execution_count": 20,
   "metadata": {},
   "outputs": [
    {
     "data": {
      "text/plain": [
       "x0^3 + x1^3"
      ]
     },
     "execution_count": 20,
     "metadata": {},
     "output_type": "execute_result"
    }
   ],
   "source": [
    "p[3].expand(2)"
   ]
  },
  {
   "cell_type": "code",
   "execution_count": 22,
   "metadata": {},
   "outputs": [
    {
     "data": {
      "text/plain": [
       "x0^3 + x1^3 + x2^3"
      ]
     },
     "execution_count": 22,
     "metadata": {},
     "output_type": "execute_result"
    }
   ],
   "source": [
    "p[3].expand(3)"
   ]
  },
  {
   "cell_type": "code",
   "execution_count": 28,
   "metadata": {},
   "outputs": [
    {
     "ename": "NameError",
     "evalue": "name 'y' is not defined",
     "output_type": "error",
     "traceback": [
      "\u001b[0;31m---------------------------------------------------------------------------\u001b[0m",
      "\u001b[0;31mNameError\u001b[0m                                 Traceback (most recent call last)",
      "\u001b[0;32m<ipython-input-28-f7aaec4e895e>\u001b[0m in \u001b[0;36m<module>\u001b[0;34m\u001b[0m\n\u001b[0;32m----> 1\u001b[0;31m \u001b[0mF\u001b[0m\u001b[0;34m=\u001b[0m\u001b[0mx\u001b[0m\u001b[0;34m**\u001b[0m\u001b[0mInteger\u001b[0m\u001b[0;34m(\u001b[0m\u001b[0;36m3\u001b[0m\u001b[0;34m)\u001b[0m \u001b[0;34m+\u001b[0m \u001b[0my\u001b[0m\u001b[0;34m**\u001b[0m\u001b[0mInteger\u001b[0m\u001b[0;34m(\u001b[0m\u001b[0;36m3\u001b[0m\u001b[0;34m)\u001b[0m\u001b[0;34m\u001b[0m\u001b[0;34m\u001b[0m\u001b[0m\n\u001b[0m",
      "\u001b[0;31mNameError\u001b[0m: name 'y' is not defined"
     ]
    }
   ],
   "source": []
  },
  {
   "cell_type": "code",
   "execution_count": null,
   "metadata": {},
   "outputs": [],
   "source": []
  }
 ],
 "metadata": {
  "kernelspec": {
   "display_name": "SageMath 9.2",
   "language": "sage",
   "name": "sagemath"
  },
  "language_info": {
   "codemirror_mode": {
    "name": "ipython",
    "version": 3
   },
   "file_extension": ".py",
   "mimetype": "text/x-python",
   "name": "python",
   "nbconvert_exporter": "python",
   "pygments_lexer": "ipython3",
   "version": "3.7.7"
  }
 },
 "nbformat": 4,
 "nbformat_minor": 4
}
